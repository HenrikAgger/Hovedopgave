{
 "metadata": {
  "language_info": {
   "codemirror_mode": {
    "name": "ipython",
    "version": 3
   },
   "file_extension": ".py",
   "mimetype": "text/x-python",
   "name": "python",
   "nbconvert_exporter": "python",
   "pygments_lexer": "ipython3",
   "version": "3.7.9-final"
  },
  "orig_nbformat": 2,
  "kernelspec": {
   "name": "python3",
   "display_name": "Python 3",
   "language": "python"
  }
 },
 "nbformat": 4,
 "nbformat_minor": 2,
 "cells": [
  {
   "cell_type": "code",
   "execution_count": 2,
   "metadata": {},
   "outputs": [
    {
     "output_type": "stream",
     "name": "stdout",
     "text": [
      "['af', 'aldrig', 'alene', 'alle', 'allerede', 'alligevel', 'alt', 'altid', 'anden', 'andet', 'andre', 'at', 'bag', 'begge', 'blandt', 'blev', 'blive', 'bliver', 'burde', 'bør', 'da', 'de', 'dem', 'den', 'denne', 'dens', 'der', 'derefter', 'deres', 'derfor', 'derfra', 'deri', 'dermed', 'derpå', 'derved', 'det', 'dette', 'dig', 'din', 'dine', 'disse', 'dog', 'du', 'efter', 'egen', 'eller', 'ellers', 'en', 'end', 'endnu', 'ene', 'eneste', 'enhver', 'ens', 'enten', 'er', 'et', 'flere', 'flest', 'fleste', 'for', 'foran', 'fordi', 'forrige', 'fra', 'få', 'før', 'først', 'gennem', 'gjorde', 'gjort', 'god', 'gør', 'gøre', 'gørende', 'ham', 'han', 'hans', 'har', 'havde', 'have', 'hel', 'heller', 'hen', 'hende', 'hendes', 'henover', 'her', 'herefter', 'heri', 'hermed', 'herpå', 'hun', 'hvad', 'hvem', 'hver', 'hvilke', 'hvilken', 'hvilkes', 'hvis', 'hvor', 'hvordan', 'hvorefter', 'hvorfor', 'hvorfra', 'hvorhen', 'hvori', 'hvorimod', 'hvornår', 'hvorved', 'i', 'igen', 'igennem', 'ikke', 'imellem', 'imens', 'imod', 'ind', 'indtil', 'ingen', 'intet', 'jeg', 'jer', 'jeres', 'jo', 'kan', 'kom', 'kommer', 'kun', 'kunne', 'lad', 'langs', 'lav', 'lave', 'lavet', 'lidt', 'lige', 'ligesom', 'lille', 'længere', 'man', 'mange', 'med', 'meget', 'mellem', 'men', 'mens', 'mere', 'mest', 'mig', 'min', 'mindre', 'mindst', 'mine', 'mit', 'må', 'måske', 'ned', 'nemlig', 'nogen', 'nogensinde', 'noget', 'nogle', 'nok', 'nu', 'ny', 'nyt', 'nær', 'næste', 'næsten', 'og', 'også', 'om', 'omkring', 'op', 'os', 'over', 'overalt', 'på', 'samme', 'sammen', 'selv', 'selvom', 'senere', 'ses', 'siden', 'sig', 'sige', 'skal', 'skulle', 'som', 'stadig', 'synes', 'syntes', 'så', 'sådan', 'således', 'temmelig', 'tidligere', 'til', 'tilbage', 'tit', 'ud', 'uden', 'udover', 'under', 'undtagen', 'var', 'ved', 'vi', 'via', 'vil', 'ville', 'vore', 'vores', 'vær', 'være', 'været', 'øvrigt']\n219\n"
     ]
    }
   ],
   "source": [
    "\n",
    "import spacy\n",
    "nlp = spacy.load('da_core_news_sm')\n",
    "#print(nlp.Defaults.stop_words) # A set of stopwords\n",
    "\n",
    "# ',' and '.' added\n",
    "# ADD STOP-WORD ','\n",
    "#nlp.Defaults.stop_words.add(',')\n",
    "#nlp.vocab[','].is_stop = True\n",
    "#nlp.vocab[','].is_stop\n",
    "\n",
    "# ADD STOP-WORD '.'\n",
    "#nlp.Defaults.stop_words.add('.')\n",
    "#nlp.vocab['.'].is_stop = True\n",
    "#nlp.vocab['.'].is_stop\n",
    "\n",
    "# REMOVE STOP-WORDS ','\n",
    "#nlp.Defaults.stop_words.remove(',')\n",
    "#nlp.vocab[','].is_stop = False\n",
    "#nlp.vocab[','].is_stop \n",
    "\n",
    "print(sorted(nlp.Defaults.stop_words))\n",
    "print(len(nlp.Defaults.stop_words))\n"
   ]
  },
  {
   "cell_type": "code",
   "execution_count": 6,
   "metadata": {
    "tags": [
     "outputPrepend"
    ]
   },
   "outputs": [
    {
     "output_type": "stream",
     "name": "stdout",
     "text": [
      "de port  enestående mulighed attraktiv lejemål glostrup motorvej ring  ring  ligge ligeledes tætte komme letbane  ejendom bruge formål enhed måtte vælge  forbygningen optimal løsning håndværker virksomhed behov godte showroom  lysindfald side  give optimal mulighed præsentation produkt  herudover mulighed leje gode højloftet lagerlejemål  loftshøjde ca  m  lejemål adgang terræn mede ledhejsport  lejemål overtage mede hvidmalet væg loft  lejemål følge størrelse   m² godte lyst lejemål mede høj loft  tilkørsel ske terræn port   m² godte stor lejemål mede indgang stor bred port  indskyde dæk  evt nedtage   m² administrationsbygning  mede loftshøjde ca  m enkelt kontor køkken toilet  port terræn ende bygning   m² beligge kælder indgang trappe  vareelevator  se øvrig lejemål ejendom   m² lage  m² lage  m² lage   m²   m²   m² showroom  m² kælder lejemål beligge adresse  fabriksparken a  b   glostruphttpsringerhvervdk  properties  velbeliggendeejendommedlystshowroomikendtindustriomraade\nlyst pæn lejemål  bestå  m² kontor  m² lage brøndby  vallensbæk  lejemål beligge pæn ejendom  placere infrastrukturmæssigt rigtig finte  kontor  sal indrette lyst mede hvide væg loft  samt mørke tæppeflise  herinde tillige installere tekøkken  kontor adgang mødefacilitet  indrette stil kontor  lager rampeadgang mede stor port  megen pæn brugbar lage  søjlefrit  mede godte  kørefast betongulv  lejemål forsyn mede massere vindue  give super lysindfald godte arbejdsmiljø  nemme adgang kontor lager  ejendom beligge etablere industrikvarter  mangen virksomhed vælge etablere nabolag  herunder bla bror dahl  renault  seat skoda inden ganske minut ejendom komme båd ring  vallensbæk torvevej motorvejsnet  lejemål beligge adresse vallensbækvej    brøndbyhttpsringerhvervdk  properties  lystogpaentlejemaalmedbaadekontoroglager\nstor butikslokale nærhed gymnasium grenå  lokale tidlig købmandsbutik genbrugsbutik  lokale bestå  erhvervsejerlejligheder ligge område mede gåafstand mangen lejlighedsblokke samt kort afstand by idrætscenter gymnasium  erhvervsbutikker blok  ejendom fremstå generel stand  parkering fællesskab mede ejerforening øvrig beboerehttpswwwedcdk  erhverv  ejendom  erhvervsejendom  butikslokale  norddjursgrenaa  fuglevcangetastcid  oline_ejdsagsnr\nboligudlejningsejendom mede  beboelseslejligheder  lejlighed værelses lejlighed  ejendom delvis puds skalmuret  mede ældre tegltag plastvinduer   garage mulighed parkering vide ejendom  ejendom udvendig vedligeholdelsesmæssigt efterslæb  ejendom beligge by al ca  km hadsund mede hundrede meter kattegathttpswwwedcdk  erhverv  ejendom  erhvervsejendom  boligudlejningsejendomme  mariagerfjordhadsundcbsterhurupvejcid  oline_ejdsagsnr\n m² butik nørrebro  udbyde butik pulsere nørrebro  nørrebro kreativ område vækst mede mangen forskellig erhverv  netop kåre verden bydel   lejemål central placering mede nuuks plads metro modsætte side vej  masse restaurant  butik café rantzausgade  samt unde  km nørrebros runddel  butik flotte facade  kaste flotte ly butikslokale  butikslokale videre adgang baglokale oppe trappe  baglokale bestå tre gode regulær rum  hvoraf bagerst thekøkken  bagtrappe adgang gårdtoilettet  obs  lejemål bruge madformål  sagsnummer  httpslldk  erhvervsejendom  koebenhavnndetailrantzausgadestth\nhelsinge by  gribskov kommune hovedby  facilitet by borger  offentlig privat  godte erhvervsliv mede produktionsvirksomhed  servicevirksomhed detailforretning  kommune dag knappe  indbygger   ejerlejlighed indrette familiesvilla  opføre   modernisere år  sen   ejendom dag fremstå moderne  tidssvarende indbyde  lejlighed stueplan   m  nr  k  flotte indgangsparti  nydelig badeværelse  bryggers  flotte spænde køkken  alrum   værelse  elegant karnapstue mede direkte adgang udestuebrugsret kælderrum  lejlighed  sal   m  nr  l  adgang stueplan  entre mede vaskefaciliteter gæstetoilet  komme flotte hall mede trappe  sal  indrette mede stue   værelse  spisekøkken badeværelse  flotte udsigt område lejlighed  fremtræde ly venlig  brugsret kælderrum  anneks  ejendom ligge super central  tætte  hele  helsinge by ejendom rigtig godte investeringsobjekt hav feks sin pensionsporteføjle   lange bane   overskudslikviditet anbringe mede særdeles forretning  udsigt værdistigning indenfor komme årrække  ring ejendomsmægler valuar mde palle andersen tlf   høre spænde ejendomhttpswwwdanboligerhvervdk  ejendom  gribskov  investeringsejendom\n investeringsejendom mede primær kontorlejere  fremragende infrastruktur godte erhvervsområde  togstation  m ejendom  nære stor indfaldsvej  gns leje ca  dkk m²  flotte vedligeholde ejendom  m² plusse  m² kælder  kalkulere afkast    ejendom rød murstensejendom  overordentlig stand  tilhøre ejendom stor grønt område mede terrasse parkeringsplads  ejendom nuværende indrette mede  lejemål  adgang fælles køkken  toilette ekstra mødelokale  sælge sirlig vedligeholde ejendom tilknytte vicevært  område kratbjerg populær erhvervsområde beligge fredensborg hillerød  område omkranse gribskov ligge perfekt nære stor indfaldsvej københavn rest nordsjælland  erhvervsområde finde trinbræt kratbjerg  mede togforbindelse direkte helsingør hillerød  gø fremkomst overordentlig nemme ejendom lejer ansætte  investering ejendom  lejemål mede sin overkommelig lejeniveau  svær genudleje  årlig lejeindtægt udgøre kr  mede udlejning restere lejemål årlig lejeindtægt forventelig kr  såfremt udleje markedslignende vilkår  driftsomkostning udgøre kr   førnævnt beløb inkl forbrughttpwwwpaulundk  boligredirect  mglsagsnr  erss\npæn velholdt investeringsejendom mede  gode lejlighed  lejlighed fremtræde pæn velholdt mede køkken badeværelserder separat måler el varmebag ejendom stor gårdhave samt gode parkeringsforhold  beligge centrum lang banegård indkøbsmuligheder mm  httpsnordicalsdkejendommedanmarksgaden\ntidl erhvervsejerlejlighed  ombygge  beboelsesejerlejligheder   beliggenhed horsens midtby  parkeringsplads gård  tilkomme nærværende  ejerlejlighed brugsret  pplads tilsammen  beligge pæn ejendomskompleks opføre  mede samle etageareal ca  m² opdele  ejerlejlighed  lejlighed hhv ca  m²  m²  lejlighed høre kælderrum  lejlighed indeholde  stue køkken åben plan  badeværelse  soveværelse værelse  fin lejlighed  fri lejefastsætelse  aftælle   lejlighed  a   opsige fraflytning    httpsnordicalsdkejendommeloevenoernsgaden\nmulighed erhverve fantastisk flotte velholdt investeringsejendom holbæk centrum  ejendom beligge tætte vide havn tidlig hus by katolsk kirke tid holbæk katolsk  ejendom efterfølge fugeret købmandsgård holbæk centrum  ejendom opføre   sidenhen ombygge   ejendom facade indretning bære præg historisk element  sin tid  ejendom bla hus by katolsk kirke  samt fungere købmandsgård holbæk centrum  ejendom opdele  etage  etage bære trækonstruktion fuld synlig  give megen original rustik indtryk  nederst finde indgang ejendom kantine  holdt flotte stil  kirke original kampestensfundament samt original bære trækonstruktion fremstå synlig  give rum ganske særlig atmosfære  væg se aftegning port gammel katolsk kirke   sal flotte velholdt kontorlokale  mede fritliggende loftsbjælke solid planke gulv  videre oppe  sal  stor tilbygget tagterrasse  ligge forbindelse mede køkken  ejendom solid leje bo nuværende eje inden ejendom sælge renovere ejendom facade  komme fremstå flotte  ejendom beligge gammel del holbæk by  holbæk museum bygning frede bindingsværksbygning sidste halvdel tallet  ahlgade ligge feks elefantapoteket  grundlægge   frede bygning mede senklassicistisk facade  finde væld mulighed nærområde  holbæk byde massere seværdighed  musik kultur  musikhus elværk koncert spillested  indrette tidlig elværk  opføre   fungere overgang medborgerhus   overdrage holbæk kommune omdanne spillested  holbæk teater egnsteater  bla vinde to reumertpriser  indrette tidlig biografbygning  etablere   herudover finde væld seværdighed museum  mangen sportsfacilitet  idrætsklub  by stor sportsklub mede ca  medlem holbæk golfklub  fostre fire internationale mestre  følge fodboldklub hbi mede ca  medlem  holbæk finde fem kommunal skole fire privat grundskole  ejendom beligge central holbæk nære massere spænde facilitet  grøn natur hav blotte stenkast ejendom  holbæk havn tilgås  minut gang  attraktiv midtpunkt holbæk  by beboer samle  ejendom placere central ahlgade  attraktiv pulsere gade  mede mangen forbigå  le adgang øvrig butik cafe gade  foruden attraktiv byliv  byde holbæk massere seværdighed inden musik kultur  bla musikhus  teater hav museum  ejendom attraktiv investor  ønske le adgang holbæk  blotte  meter ejendom ligge holbæk station   time kørsel hovedbanegård københavn  nem føre rest sjælland storkøbenhavn   meter ejendom ligge valdemar sejrsvej  direkte adgang holbækmotorvejen øvrig motorvejsnet   httpswwwedcdkerhvervejendommeerhvervsejendommelagerproduktionholbcakholbcakahlgademcidoline_ejdsagsnr\nejendom særdeles velegnet nuværende formål skole  institution  skønne ude område  stor parklignende hav mede boldbane  samt gode bygning mede værelse  køkken  bede opholdsrum  hele ejendom opvarme mede fjernvarme  bygning   bbr  opføre   bygning anvende dag undervisning  musik  foredragssal  spisesal  stor industrikøkken  opholdsrum  administration medarbejder  herudover  værelse elev  samt  badeværelse  toilette fællesrum køkken enkelt etage  endvidere opføre sportshal dyrke inde idræt bask  fodbold mv fitness rum mede redskab   sal endvidere indrette musiklokale  stand  tilbygning kalde a  relativ rød sten  tag  vindue  tag gammel bygning ældre dato  ok stand  bygning   bbr  opføre  bygning huse ejendom to værksted  metal træ værksted  endvidere to gode garage  mede kørefast underlag gode port   sal   gode værelse samt  baderum  toilette  køkken  opholdsrum bygning  sal  tag  vindue mv særdeles stand  bygning   bbr  opføre  flotte bygning  båd ude inde  lang mod højskolevej indrette mede klasseværelse samt toilette stueplan  soverum  køkken  opholdsrum  værelse elev  sal  tippe toppe stand bygning rød sten mede rødt tegltag  bygning teknik rum  qua rette  bygning   bbr  opføre  indrette sove opholdshus  mede gode værelse båd  sal stueplan   værelse  opholdsrum  køkken  depot  bryggers mv  hav bygning  ligge tilbagetrække stor bygningssæt  bygning stand  femstår rød sten  mede delvis tegl  pappe eternit tag  stor grundstykke mede ejendom ca  m²  højskolevej nr   parcelhus beligge overfor højskolevej   hus indeholde køkken  stue  bryggers værelse stueplan  samt to fin værelse  sal  tegning ejendom rekvirere hos edc erhverv  ejendom nuværende leje opsige lejemål medio   fri køber disposition  leje udkant søllested  ca   bil nakskov tætte vide jernbanestation supermarked ligge stor flotte ejendom  mede forvente vækst lolland komme mangen år ifm etablering femern forbindelse  se bysamfund lolland falster indenfor   kørsel rødby  del vækst  søllested ligge mede ca   kørsel bil femern ejendom anvende formål  mangen århttpswwwedcdk  erhverv  ejendom  erhvervsejendom  undervisning  lollandscbllested  hcbjskolevejcid  oline_ejdsagsnr\nhome stor fornøjelse  udbyde megen attraktiv gårdhavevillaer selveste hasselbakken bynær del hasselager  bolig ligge rolig område mede kort afstand skole  fritidsaktivitet  indkøb  bybus grøn område  område byde tryg nærmiljø  barn kort skole  sport nem bevæge rund lokalområde  tætte villa stor grønt fællesområde mede legeplads skov  eldorado barn  bolig ligge  sidste grønt område  opholde privat solrig hav  opvokse mede frugttræ  højbede  drivhus skønne plante træ  villa carport  skurre samt læ vide hus pragtfuld terrasse  ligge sydvestvendt  oase terrasse føle rigtig stemning  takke nuværende ejer kreativ indretning modig materialevalg fremstå bolig utrolig moderne mede massere sjæl råhygge  bolig optimal udnytte mede entré mede flotte skiffergulv garderobeplads  praktisk bryggers ligeledes mede skiffergulv mede separat indgang  bolig hjerte lyse køkken  alrum mede stor vinduesparti køkkenafdelingen ovenlysvindue  køkken oprindelig  utrolig moderne vide skabe ø  lægge smuk skiffergulv  skift bordplade armatur samt bevare oprindelig funky farve låge  køkken åben forbindelse mede lyse stue mede glasdør terrasse  alrum åbning utrolig hyggelig opholdsstue  virkelig flotte gennemføre badeværelse  mede vask nedfælde skabsarrangement  klinkegulv  håndklædetørre separat bruseniche  endvidere byde hus østvendt soveværelse mede skab samt  gode lyse børneværelse  bolig ose råhygge atmosfære  perfekt unge parre I  storvilla stor hav drømme overkommelig hav bolig mede planløsning  hjem forelske   httpshomedksag\nomgive natur  tætte sejerøbugtens dejlig badestrand  mulighed erhverve super lækker moderne fritidshus   hus fremstå særdeles vedligeholde indflytningsklar  rumme eksklusive facilitet kræsen købe   kvm stor naturgrund kræve megen vedligeholdelse  nyde weekend feriere ro mage ugeneret grund  omkranse nåletræ  desuden plads boldspil leg  familie ung mulighed boltre natur  endvidere give skønne grund gode mulighed etablering spænde bane familie årlig kroketturneringudendørsaktiviteter kontakt home viglyngen tlf  fremvisninghttpshomedk  sag\nudbyde flotte markant herskabsvilla ligge helt central indre hasseris  villa år nænsom renovere mede stor respekt historie hus stil fører helt man komme bo rolig omgivelser megen central børnevenlig mede ganske kort gåafstand aalborg centrum skovdal  velkommen indenfor   stor entrè mede plads sko overtøj  dejlig åben køkken alrum mede massere skab bordplads  køkken direkte udgang fantastisk udestue mede udgang gårdmiljø  to smuk stue ensuite mede udgang læk vinterhave  voksenafdeling mede kæmpe soveværelse  walkin closet lækker badeværelse mede bruseniche karbad   sal indeholde   tre enorm stor værelse  mede loft kip  klinkebelagt badeværelse mede bruseniche  pæn thekøkken kælder indeholde   godte funktionel bryggers mede grovkøkken vaskemiljø  rummelig vinkælder  godte disponibel rum opbevaring villa skøn gårdhave mede mangen solkroge megen nemme vedligeholde  ring dag  fremvisning skønne bolighttpshomedk  sag\ncharmere rødstensvilla familie bjerning kirkevej    haderslev bjerning kirkevej    haderslev bjerning kirkevej    haderslev bjerning kirkevej nord haderslev fornøjelse udbyde hyggelig rødstensvilla   rolig beliggenhed by  område pryde natur retning  fuglesang privatliv fred  sand refugium  familieliv udspille natur varme favn  hjertelig velkommen  bemærke straks charmere rødstensvilla  utvivlsom indfri boligdrømme   kvadratmeter eksklusiv kælder værksted vinkælder  medregne kvadratmetertallet  fordele etagemeter to plan  nærværende stueplan mede hjem fællesrum samt hyggelig førstesal mede to gode soveværelse  nå daglig madlavning florere køkken  unik udsigt grøn areal  omkranse ejendom  hvorimens lys strømme vindue  gø gælde to stue  dag indrette stue spisestue  alternativ anvende stue ekstra soveværelse  oppe I  badeværelse finde ligeledes grundplanet samt praktisk vaskebryggers fyrrum  ganske særlig vide ejendom herlig udendørsarealer  medfølge  højtstående træ retning samt hyggelig krog  udforske leg  dertil  sydvendt fliseterrasse  sand perle sommermåned  hvorpå nyde lækker grillmåltid mede godte selskab  simpelthen skønt  hus beligge rørkær skovbølling nord haderslev  finde hverdag fornødenhed inden radius fem kilometer  gælde bla daginstitution  indkøb  idrætshal svømmehal  naturrige areal vide vesterskov to kilometer vække  tage knappe  minut bil haderslev centrum  dag byde café shoppetur  tale skøn rødstensvilla herlig omgivelser  parre familie finde stor glæde  hjertelig velkommen bjerning kirkevej   httpswwwbrikkdkejendombjerningkirkevejhaderslev\nrigtig pæn velholdt parcelhus beligge skønne floraparken yderst eftertagtet børnefamilie pga korte afstand by  skole  indkøb  ligeså naturskøn område vide bregentved slot  hus gø godte børnefamilie byde entre  spisekøkken  køkken alrum mede skabs spiseplads  dejlig stor opholdsstue mede udgang skønne stor udestue  soveværelse   børneværelse kontor  derudover  badeværelse samt bryggers  ejendom høre desuden carport mede udhus  ugenert lukke mede plæne le sprede beplanting  samt terrasse fliseblagt indkørsel  skønne hus ideel familiehus  velkommen tilhttpswwwedcdk  alleboliger  haslev  floraparkensagsnr\nhjerte valby finde virkelig fin lyse lejlighed beligge central eftertragte adresse stenkast grænse frederiksberg  finde tætte  hjerte begære   valby langgades eftertragte café restaurantmiljø  væld indkøbsmuligheder feks spinderi  biograf  teater nordisk film studium  hoppe bus tog  københavn k minut  vesterbro carlsbergby nå vide kort gå cykeltur minut gang lejlighed ligge søndermarken  tag gåtur skønne omgivelser  møde mede ven picnic løbe aftentur oplyse løbespor benytte udendørs træningsfacilitet  lejlighed indeholde  funktionel entré mede plads overtøj  herfra adgang super flotte køkken mede vaskemaskine  separat toilet stor badeværelse  mede plads vaskemaskine   ly rummelig stue mede skønt ugeneret kig gård træ  soveværelse mede adgang badeværelse  plads kontorafsnit udgang altan  læ vind vejr nyde udsigt gård  ejerforening e  f horsekildegården megen velholdt veldrevet  byde dejlig hyggelig gårdmiljø solbadning grill  cykelkælder parkering  dørtelefon tørreloft  ejendom fremstå rigtig stand parre år nytte tag renovere facade  virkelig fin lejlighed oplægge forældrekøb unge parre  nå købe bolig edc  mulighed gratis flytteforsikring  ønske  sende mail mede  ja tak  flytteforsikringgjensidigedk  httpswwwedcdkalleboligervalbyhorsekildevejtvsagsnr\nkragekærvej  vej slå bugt finde flotte ejendom  byde sjælden fin kombination stråtækt landidyl  moderne familievenlighed  massere plads massere funktionalitet   m stor grund bo dejlig ugeneret midt natur  samtidig blotte kilometer nordenskov  finde skole  pasning  indkøbs idrætsfacilitet  varde motorvej nå unde tyv minut  halv time kørsel esbjerg  charmere ældre ejendom datere   ad omgang stor  veludført opdatering  sen omløbsdræn rund stuehuet   værelse  bryggers gang renovere   forældresoveværelset forgangen samt køkken stue  istandsætte  lyst lækker flytte  selve bolig udgøre  m  dertil komme samle udhusareal yderlig  m  bolig planløsning disponere mede længe  rumme stue  alrum køkken  køkken udgang stor sydvendt terrassemiljø  hvoraf del endda praktisk afskærme overdække  forgangen forbinde bolig to længe give adgang soveværelse mede walkincloset samt båd badeværelse gæstetoilet  endelig and længe to stor værelse  fyrrum samt vaskerum baggang  sagtens benytte ekstra hygge slyngelstue  bolig nytte pillefyr  vide solskin glæde  kw solcelleanlæg   gavmild udhusarealer finde le mangen anvendelsesmulighed  stor landhave mede frodig  gammel bevoksning lok mangen stund unde åben himmel  ejendom trixtank samt nedsivningsanlæg   kig hele vide fremvisninghttpswwwedcdk  alleboliger  varde  kragekcarvejsagsnr\nmoderne velbygget funktionel familievilla  plan opføre   beligge dejlig sydvendt ugenert grund lukke stikvej strandvej taarbæk dyrehave øresund gåafstand havn taarbæk skole  villa indeholde  m særdeles veludnyttet bolig  plan  heraf  m stueplan  m  sal  hems samt  m balkon  entré mede garderobe  stor køkkenalrum åben forbindelse spisestue  udgang overdække sydvendt terrasse  bryggers mede selvstændig indgang  værelsesafdeling mede  gode soveværelse moderne badeværelse   sal  opholdsstue mede udgang stor sydvendt  m overdække terrasse mede sundkig  opholdsstue endvidere adgang hyggelig hems  værelsesafdeling mede  gode værelse moderne badeværelse  ejendom fremtræde båd inde ude indflytningsklar stand megen energivenlig   m solrig mede gode terrasse   m carport  heraf  m udhus  særdeles velegnet familiebolig mede rigtig planløsning  bolig pt udleje forvente ledig sen  juli httpswwwclausborgdk  bolig  strandvejenataarbaekklampenborg\n0       False\n1       False\n2       False\n3       False\n4       False\n        ...  \n2495    False\n2496    False\n2497    False\n2498    False\n2499    False\nName: text4, Length: 2500, dtype: bool\n\nNumber of texts containing the word ndværker : 2500\n"
     ]
    }
   ],
   "source": [
    "import pandas as pd\n",
    "header_names=['text']\n",
    "npr = pd.read_csv('descriptions.csv', header=None, skiprows=1, names=header_names, sep='\\n')\n",
    "\n",
    "import spacy\n",
    "nlp = spacy.load('da_core_news_sm')\n",
    "stopord = nlp.Defaults.stop_words  # stop_words is a set\n",
    "#print(len(stopord)) # 221 stop_words\n",
    "\n",
    "def normalize(comment, lowercase, remove_stopwords):\n",
    "    if lowercase:\n",
    "        comment = comment.lower()\n",
    "    comment = nlp(comment)\n",
    "    lemmatized = list()\n",
    "    for word in comment:\n",
    "        lemma = word.lemma_.strip()\n",
    "        if lemma:\n",
    "            if not remove_stopwords or (remove_stopwords and lemma not in stopord):\n",
    "                lemmatized.append(lemma)\n",
    "    return \" \".join(lemmatized)\n",
    "\n",
    "npr['text2']=npr['text'].apply(normalize, lowercase=True, remove_stopwords=True)\n",
    "npr['text3'] = npr['text2'].str.replace('[^\\w\\s]','')\n",
    "npr['text4'] = npr['text3'].str.replace('[0-9]','')\n",
    "print(npr['text4'])\n",
    "[print(item) for item in npr['text4']]\n",
    "\n",
    "\n",
    "words = 'ndværker' \n",
    "selection1 = npr['text4'].str.contains(words)\n",
    "print(selection1) # VIRKER\n",
    "print(\"\\nNumber of texts containing the word {} :\".format(words), len(selection1))\n",
    "\n",
    "\n",
    "\n",
    "#new_df = npr['text4'].to_csv('text4.csv', index=False)"
   ]
  },
  {
   "cell_type": "code",
   "execution_count": 4,
   "metadata": {},
   "outputs": [
    {
     "output_type": "stream",
     "name": "stdout",
     "text": [
      "johannesburg    kastrup  salg hos lokalboligdkrummelig familiebolig mede sydvendt terrasse vestamagerpå hjørnegrund johannesburg allé  tætte hverdag fornødenhed ligge klassisk ervilla   hvide kalksandstenshus råde  m fordele fire værelse  stor køkkenalrum mede skønt lysindfald  badeværelse samt gæstetoilet bryggers  dertil høre nemme hav mede flisebelagt terrassestort køkkenalrumdet nydelig køkken mede lyse  udskære skabslåge rummelig  virke stor  ligge åben forbindelse mede alrum stue  snild inddele rest rum mede båd spisebord  sofa hyggekrog  berige mede dejlig lysindfald stor vinduespartisoveværelse  kontor  walkincloset  kær barn mangen navn  plads familie størrelse  fire fin værelse godte mede  enkelt indbygge skab stor vindue  prik iet gennemgå gulv  bidrage positiv hus samle udtrykgode facilitet hverdag gangnår tid dag bede uge vasketøj ordne  klare nem henholdsvis badeværelse mede badekaret  flaskegrøn flis samt mosaikgulv anseelig bryggers  plads etablere vaskefaciliteter  desuden ekstra gæstetoilethttpswwwlokalboligdk  bolig  villa  kastrup  johannesburgallexsagxmgl\n"
     ]
    }
   ],
   "source": [
    "print(npr['text4'][628])\n"
   ]
  },
  {
   "cell_type": "code",
   "execution_count": 58,
   "metadata": {
    "tags": []
   },
   "outputs": [
    {
     "output_type": "stream",
     "name": "stdout",
     "text": [
      "['i', 'populære', 'paarup', 'udbydes', 'dejlig', 'villa', 'ét', 'plan,', 'husets', 'muligheder', 'begrænsninger', 'har.', 'huset', 'velholdt,', 'lyst', 'imødekommende', 'giver', 'godt', 'helhedsindtryk', 'start', 'slut.', 'den', 'nuværende', 'planløsning', 'ideel', 'parret', 'familie,', 'hus', 'helt', 'ekseptionelt', 'beliggenhed.', 'ejendommen', 'ude', 'inde', 'velholdt', 'gå', 'til.', 'huset', 'rummer', 'dejligt', 'køkken,', 'ligger', 'opad', 'stue', 'udestue', '-', 'ord', 'let', 'hurtigt', 'drømmen', 'køkkenalrum', 'virkelighed.', 'endvidere', 'findes', 'dejligt', 'rummeligt', 'bryggers,', 'dagligdagen', 'fungerer', 'praktisk', 'indgang.', 'husets', 'to', 'store', 'værelser', 'ligger', 'forlængelse', 'nuværende', 'spisestue.', 'det', 'værelse', 'oprindeligt', 'to,', 'store', 'åbne', 'rum,', 'sidenhen', 'prioriteret', 'to', 'store', 'værelser', 'stedet.', 'dette', 'let', 'reetableres,', 'huset', 'rumme', 'to', 'børneværelser', 'ét', 'forældresoveværelse.', 'og', 'netop', 'sidstnævnte', 'eget', 'badeværelse,', 'spisestuen', 'tilgås', 'gæstetoilet.', 'huset', 'ligger', 'helt', 'ideelt', 'grunden', 'gør,', 'udemiljøe', 'prioriteres', 'ønske.', 'baghaven', 'uforstyrret', 'træbevoksning', 'bunden,', 'giver', 'hygge', 'idyl,', 'central', 'bynær', 'beliggenhed.', 'der', 'findes', 'carport', 'værksted', 'grunden,', 'står', 'pæn', 'stand.', 'særligt', 'én', 'ting', 'giver', 'beliggenheden', 'stellavej', '3', 'karakter.', 'fra', 'adressen', 'regnes', 'afstande', 'kilometer,', 'meter.', 'ved', 'blot', '5-10', 'minutters', 'gang', 'findes', 'indkøbsmuligheder,', 'offentlig', 'transport,', 'skole,', 'daginstitution,', 'paarup-hallens', 'idrætsfaciliteter', 'naturomgivelser,', 'giver', 'fantastisk', 'gåtur.', 'til', 'odense', 'bymidte', 'ligeledes', 'langt,', 'behovet', 'gågaden', 'rosengårdscentret', 'minimal,', 'store', 'udvalg', 'findes', 'tarup', 'centrets', 'butikker', 'muligheder.', 'edc', 'tarup', '-', 'glæder', 'fremvise', 'mulighedsrige', 'étplansvilla.', 'velkommen', 'til!,https://www.edc.dk/alle-boliger/odense-nv/5210/stellavej-3/?sagsnr=52102348']\n['populære', 'paarup', 'udbydes', 'dejlig', 'villa', 'ét', 'plan,', 'husets', 'muligheder', 'begrænsninger', 'har.', 'huset', 'velholdt,', 'lyst', 'imødekommende', 'giver', 'godt', 'helhedsindtryk', 'start', 'slut.', 'nuværende', 'planløsning', 'ideel', 'parret', 'familie,', 'hus', 'helt', 'ekseptionelt', 'beliggenhed.', 'ejendommen', 'ude', 'inde', 'velholdt', 'gå', 'til.', 'huset', 'rummer', 'dejligt', 'køkken,', 'ligger', 'opad', 'stue', 'udestue', '-', 'ord', 'let', 'hurtigt', 'drømmen', 'køkkenalrum', 'virkelighed.', 'endvidere', 'findes', 'dejligt', 'rummeligt', 'bryggers,', 'dagligdagen', 'fungerer', 'praktisk', 'indgang.', 'husets', 'to', 'store', 'værelser', 'ligger', 'forlængelse', 'nuværende', 'spisestue.', 'værelse', 'oprindeligt', 'to,', 'store', 'åbne', 'rum,', 'sidenhen', 'prioriteret', 'to', 'store', 'værelser', 'stedet.', 'let', 'reetableres,', 'huset', 'rumme', 'to', 'børneværelser', 'ét', 'forældresoveværelse.', 'netop', 'sidstnævnte', 'eget', 'badeværelse,', 'spisestuen', 'tilgås', 'gæstetoilet.', 'huset', 'ligger', 'helt', 'ideelt', 'grunden', 'gør,', 'udemiljøe', 'prioriteres', 'ønske.', 'baghaven', 'uforstyrret', 'træbevoksning', 'bunden,', 'giver', 'hygge', 'idyl,', 'central', 'bynær', 'beliggenhed.', 'findes', 'carport', 'værksted', 'grunden,', 'står', 'pæn', 'stand.', 'særligt', 'én', 'ting', 'giver', 'beliggenheden', 'stellavej', '3', 'karakter.', 'adressen', 'regnes', 'afstande', 'kilometer,', 'meter.', 'blot', '5-10', 'minutters', 'gang', 'findes', 'indkøbsmuligheder,', 'offentlig', 'transport,', 'skole,', 'daginstitution,', 'paarup-hallens', 'idrætsfaciliteter', 'naturomgivelser,', 'giver', 'fantastisk', 'gåtur.', 'odense', 'bymidte', 'ligeledes', 'langt,', 'behovet', 'gågaden', 'rosengårdscentret', 'minimal,', 'store', 'udvalg', 'findes', 'tarup', 'centrets', 'butikker', 'muligheder.', 'edc', 'tarup', '-', 'glæder', 'fremvise', 'mulighedsrige', 'étplansvilla.', 'velkommen', 'til!,https://www.edc.dk/alle-boliger/odense-nv/5210/stellavej-3/?sagsnr=52102348']\n"
     ]
    }
   ],
   "source": [
    "import pandas as pd\n",
    "header_names=['text']\n",
    "npr = pd.read_csv('descriptions.csv', header=None, skiprows=1, names=header_names, sep='\\n')\n",
    "\n",
    "import spacy\n",
    "nlp = spacy.load('da_core_news_sm')\n",
    "stopord = nlp.Defaults.stop_words  # stop_words is a set\n",
    "#print(len(stopord)) # 221 stop_words\n",
    "\n",
    "def normalize(comment, lowercase, remove_stopwords):\n",
    "    if lowercase:\n",
    "        comment = comment.lower()\n",
    "    comment = nlp(comment)\n",
    "    lemmatized = list()\n",
    "    for word in comment:\n",
    "        lemma = word.lemma_.strip()\n",
    "        if lemma:\n",
    "            if not remove_stopwords or (remove_stopwords and lemma not in stopord):\n",
    "                lemmatized.append(lemma)\n",
    "    return \" \".join(lemmatized)\n",
    "\n",
    "npr['text2']=npr['text'].apply(normalize, lowercase=True, remove_stopwords=True)\n",
    "npr['text3'] = npr['text2'].str.replace('[^\\w\\s]','')\n",
    "\n",
    "input = npr['text'][0].split(' ')\n",
    "#input = nlp(npr['text'][0].split(' '))\n",
    "\n",
    "print([x.lower() for x in input if x not in list(stopord)]) # a set of stopwords\n",
    "# or\n",
    "mylist = []\n",
    "for i in input:\n",
    "    #i = i.text\n",
    "    i = i.lower() # changed to lowercase \n",
    "    if i not in stopord: # DENNE LINJE FEJLER\n",
    "        mylist.append(i) \n",
    "print(mylist)\n",
    "\n",
    "# 'ORD + ,' eller 'ORD + punktum' skal fjernes SE NR 17 TOKENIZATION \n",
    "\n",
    "\n",
    "# #import spacy\n",
    "#nlp = spacy.load('da_core_news_sm')\n",
    "#doc1 = nlp(str(mylist))  \n",
    "#for token in doc1:\n",
    "#    print(token.text, '\\t',token.pos_,'\\t', token.lemma,'\\t',token.lemma_)"
   ]
  },
  {
   "cell_type": "code",
   "execution_count": null,
   "metadata": {},
   "outputs": [],
   "source": []
  },
  {
   "cell_type": "code",
   "execution_count": 48,
   "metadata": {},
   "outputs": [
    {
     "output_type": "stream",
     "name": "stdout",
     "text": [
      "{'ad', 'været', 'de', 'ville', 'deres', 'hendes', 'hvad', 'dog', 'selv', 'hos', 'skulle', 'jeg', 'nogle', 'hans', 'hvis', 'vil', 'mange', 'i', 'sig', 'ham', 'meget', 'dem', 'hvor', 'om', 'på', 'og', 'sådan', 'der', 'alle', ',', 'din', 'jo', 'over', 'med', 'da', 'en', 'dig', 'havde', 'mine', 'ikke', 'som', '.', 'bliver', 'mod', 'nu', 'jer', 'hende', 'af', 'dette', 'hun', 'op', 'man', 'være', 'har', 'sin', 'du', 'noget', 'skal', 'thi', 'efter', 'ned', 'var', 'under', 'men', 'vi', 'sine', 'det', 'blev', 'anden', 'her', 'er', 'denne', 'bor', 'end', 'mit', 'den', 'at', 'blive', 'for', 'vor', 'mig', 'han', 'et', 'også', 'disse', 'min', 'eller', 'os', 'til', 'have', 'sit', 'ind', 'alt', 'kunne', 'ud', 'fra', 'når'}\n"
     ]
    }
   ],
   "source": [
    "from nltk.corpus import stopwords\n",
    "\n",
    "stop_words = set(stopwords.words('danish'))\n",
    "\n",
    "#add words that aren't in the NLTK stopwords list\n",
    "new_stopwords = ['.', ',', 'bor']\n",
    "new_stopwords_list = stop_words.union(new_stopwords)\n",
    "\n",
    "#remove words that are in NLTK stopwords list\n",
    "not_stopwords = {'n', 'pas', 'ne'} \n",
    "final_stop_words = set([word for word in new_stopwords_list if word not in not_stopwords])\n",
    "\n",
    "print(final_stop_words)"
   ]
  },
  {
   "cell_type": "code",
   "execution_count": null,
   "metadata": {},
   "outputs": [],
   "source": []
  }
 ]
}