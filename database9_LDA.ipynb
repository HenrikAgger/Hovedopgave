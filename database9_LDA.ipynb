{
 "metadata": {
  "language_info": {
   "codemirror_mode": {
    "name": "ipython",
    "version": 3
   },
   "file_extension": ".py",
   "mimetype": "text/x-python",
   "name": "python",
   "nbconvert_exporter": "python",
   "pygments_lexer": "ipython3",
   "version": "3.8.5-final"
  },
  "orig_nbformat": 2,
  "kernelspec": {
   "name": "python3",
   "display_name": "Python 3",
   "language": "python"
  }
 },
 "nbformat": 4,
 "nbformat_minor": 2,
 "cells": [
  {
   "cell_type": "code",
   "execution_count": 4,
   "metadata": {
    "tags": []
   },
   "outputs": [
    {
     "output_type": "stream",
     "name": "stdout",
     "text": [
      "94\n['I', 'populære', 'Paarup', 'udbydes', 'dejlig', 'villa', 'ét', 'plan,', 'husets', 'muligheder', 'ingen', 'begrænsninger', 'har.', 'Huset', 'velholdt,', 'lyst', 'imødekommende', 'giver', 'godt', 'helhedsindtryk', 'start', 'slut.', 'Den', 'nuværende', 'planløsning', 'ideel', 'parret', 'lille', 'familie,', 'hus', 'helt', 'ekseptionelt', 'god', 'beliggenhed.', 'Ejendommen', 'ude', 'inde', 'velholdt', 'lige', 'gå', 'til.', 'Huset', 'rummer', 'dejligt', 'køkken,', 'ligger', 'opad', 'stue', 'udestue', '-', 'andre', 'ord', 'kan', 'let', 'hurtigt', 'gøre', 'drømmen', 'køkkenalrum', 'virkelighed.', 'Endvidere', 'findes', 'dejligt', 'rummeligt', 'bryggers,', 'dagligdagen', 'fungerer', 'praktisk', 'indgang.', 'Husets', 'to', 'store', 'værelser', 'ligger', 'forlængelse', 'nuværende', 'spisestue.', 'Det', 'ene', 'værelse', 'oprindeligt', 'to,', 'få', 'store', 'åbne', 'rum,', 'sidenhen', 'prioriteret', 'to', 'store', 'værelser', 'stedet.', 'Dette', 'kan', 'let', 'reetableres,', 'så', 'huset', 'rumme', 'to', 'børneværelser', 'ét', 'forældresoveværelse.', 'Og', 'netop', 'sidstnævnte', 'eget', 'badeværelse,', 'mens', 'spisestuen', 'kan', 'tilgås', 'gæstetoilet.', 'Huset', 'ligger', 'helt', 'ideelt', 'grunden', 'gør,', 'udemiljøe', 'kan', 'prioriteres', 'ønske.', 'Baghaven', 'uforstyrret', 'træbevoksning', 'bunden,', 'giver', 'hygge', 'idyl,', 'ellers', 'central', 'bynær', 'beliggenhed.', 'Der', 'findes', 'carport', 'værksted', 'grunden,', 'står', 'pæn', 'stand.', 'Særligt', 'én', 'ting', 'giver', 'beliggenheden', 'Stellavej', '3', 'karakter.', 'Fra', 'adressen', 'regnes', 'fleste', 'afstande', 'nemlig', 'kilometer,', 'meter.', 'Ved', 'blot', '5-10', 'minutters', 'gang', 'findes', 'indkøbsmuligheder,', 'offentlig', 'transport,', 'skole,', 'daginstitution,', 'Paarup-hallens', 'idrætsfaciliteter', 'mindst', 'naturomgivelser,', 'giver', 'fantastisk', 'gåtur.', 'Til', 'Odense', 'bymidte', 'ligeledes', 'langt,', 'behovet', 'gågaden', 'Rosengårdscentret', 'minimal,', 'store', 'udvalg', 'findes', 'Tarup', 'Centrets', 'butikker', 'muligheder.', 'EDC', 'Tarup', '-', 'glæder', 'fremvise', 'mulighedsrige', 'étplansvilla.', 'Velkommen', 'til!,https://www.edc.dk/alle-boliger/odense-nv/5210/stellavej-3/?sagsnr=52102348']\n"
     ]
    }
   ],
   "source": [
    "import pandas as pd\n",
    "header_names=['text']\n",
    "npr = pd.read_csv('descriptions.csv', header=None, skiprows=1, names=header_names, sep='\\n')\n",
    "#npr.head()\n",
    "#npr['text'][0]\n",
    "\n",
    "from nltk.corpus import stopwords\n",
    "dansk = stopwords.words('danish')\n",
    "print(len(dansk))\n",
    "#npr['text'][0].split(' ').apply(lambda x: [item for item in x if item not in dansk])\n",
    "input = npr['text'][0].split(' ')\n",
    "mylist = []\n",
    "for i in input:\n",
    "#    print(i)\n",
    "    if i not in dansk:\n",
    "        mylist.append(i) \n",
    "print(mylist)\n",
    "        # LAV OM TIL LOWERCASE \n",
    "\n",
    "#import spacy\n",
    "#nlp = spacy.load('da_core_news_sm')\n",
    "#doc1 = nlp(str(mylist))  \n",
    "#for token in doc1:\n",
    "#    print(token.text, '\\t',token.pos_,'\\t', token.lemma,'\\t',token.lemma_)\n",
    "    \n",
    "#temp = npr['text'][0]\n",
    "#print(temp.split(' '))\n",
    "#for item in npr['text']:\n",
    "#    print('\\n',item)\n",
    "    \n",
    "#npr['text'].apply(lambda x: [item for item in x if item not in dansk])\n",
    "#print(npr['text'][0])\n",
    "\n",
    "#from sklearn.feature_extraction.text import CountVectorizer\n",
    "#cv = CountVectorizer(max_df=0.9, min_df=2, stop_words=dansk)\n",
    "#dtm = cv.fit_transform(npr['text'])\n",
    "\n"
   ]
  },
  {
   "cell_type": "code",
   "execution_count": 3,
   "metadata": {},
   "outputs": [
    {
     "output_type": "stream",
     "name": "stdout",
     "text": [
      "94\n['i', 'populære', 'paarup', 'udbydes', 'dejlig', 'villa', 'ét', 'plan,', 'husets', 'muligheder', 'ingen', 'begrænsninger', 'har.', 'huset', 'velholdt,', 'lyst', 'imødekommende', 'giver', 'godt', 'helhedsindtryk', 'start', 'slut.', 'den', 'nuværende', 'planløsning', 'ideel', 'parret', 'lille', 'familie,', 'hus', 'helt', 'ekseptionelt', 'god', 'beliggenhed.', 'ejendommen', 'ude', 'inde', 'velholdt', 'lige', 'gå', 'til.', 'huset', 'rummer', 'dejligt', 'køkken,', 'ligger', 'opad', 'stue', 'udestue', '-', 'andre', 'ord', 'kan', 'let', 'hurtigt', 'gøre', 'drømmen', 'køkkenalrum', 'virkelighed.', 'endvidere', 'findes', 'dejligt', 'rummeligt', 'bryggers,', 'dagligdagen', 'fungerer', 'praktisk', 'indgang.', 'husets', 'to', 'store', 'værelser', 'ligger', 'forlængelse', 'nuværende', 'spisestue.', 'det', 'ene', 'værelse', 'oprindeligt', 'to,', 'få', 'store', 'åbne', 'rum,', 'sidenhen', 'prioriteret', 'to', 'store', 'værelser', 'stedet.', 'dette', 'kan', 'let', 'reetableres,', 'så', 'huset', 'rumme', 'to', 'børneværelser', 'ét', 'forældresoveværelse.', 'og', 'netop', 'sidstnævnte', 'eget', 'badeværelse,', 'mens', 'spisestuen', 'kan', 'tilgås', 'gæstetoilet.', 'huset', 'ligger', 'helt', 'ideelt', 'grunden', 'gør,', 'udemiljøe', 'kan', 'prioriteres', 'ønske.', 'baghaven', 'uforstyrret', 'træbevoksning', 'bunden,', 'giver', 'hygge', 'idyl,', 'ellers', 'central', 'bynær', 'beliggenhed.', 'der', 'findes', 'carport', 'værksted', 'grunden,', 'står', 'pæn', 'stand.', 'særligt', 'én', 'ting', 'giver', 'beliggenheden', 'stellavej', '3', 'karakter.', 'fra', 'adressen', 'regnes', 'fleste', 'afstande', 'nemlig', 'kilometer,', 'meter.', 'ved', 'blot', '5-10', 'minutters', 'gang', 'findes', 'indkøbsmuligheder,', 'offentlig', 'transport,', 'skole,', 'daginstitution,', 'paarup-hallens', 'idrætsfaciliteter', 'mindst', 'naturomgivelser,', 'giver', 'fantastisk', 'gåtur.', 'til', 'odense', 'bymidte', 'ligeledes', 'langt,', 'behovet', 'gågaden', 'rosengårdscentret', 'minimal,', 'store', 'udvalg', 'findes', 'tarup', 'centrets', 'butikker', 'muligheder.', 'edc', 'tarup', '-', 'glæder', 'fremvise', 'mulighedsrige', 'étplansvilla.', 'velkommen', 'til!,https://www.edc.dk/alle-boliger/odense-nv/5210/stellavej-3/?sagsnr=52102348']\n"
     ]
    }
   ],
   "source": [
    "import pandas as pd\n",
    "header_names=['text']\n",
    "npr = pd.read_csv('descriptions.csv', header=None, skiprows=1, names=header_names, sep='\\n')\n",
    "\n",
    "\n",
    "from nltk.corpus import stopwords\n",
    "dansk = stopwords.words('danish')\n",
    "print(len(dansk))\n",
    "#npr['text'][0].split(' ').apply(lambda x: [item for item in x if item not in dansk])\n",
    "\n",
    "\n",
    "input = npr['text'][0].split(' ')\n",
    "mylist = []\n",
    "for i in input:\n",
    "    if i not in dansk:\n",
    "        i = i.lower()\n",
    "        mylist.append(i) \n",
    "print(mylist)"
   ]
  },
  {
   "cell_type": "code",
   "execution_count": 15,
   "metadata": {},
   "outputs": [
    {
     "output_type": "stream",
     "name": "stdout",
     "text": [
      "LatentDirichletAllocation(n_components=7, random_state=42)\n"
     ]
    }
   ],
   "source": [
    "from sklearn.decomposition import LatentDirichletAllocation\n",
    "LDA =LatentDirichletAllocation(n_components=7,random_state=42)\n",
    "LDA.fit(dtm)\n",
    "print(LDA)"
   ]
  },
  {
   "cell_type": "code",
   "execution_count": 25,
   "metadata": {},
   "outputs": [
    {
     "output_type": "execute_result",
     "data": {
      "text/plain": [
       "14781"
      ]
     },
     "metadata": {},
     "execution_count": 25
    }
   ],
   "source": [
    "# Grab the vocabulary of words\n",
    "len(cv.get_feature_names())\n",
    "#type(cv.get_feature_names())\n",
    "#cv.get_feature_names()[50]"
   ]
  },
  {
   "cell_type": "code",
   "execution_count": 26,
   "metadata": {},
   "outputs": [
    {
     "output_type": "execute_result",
     "data": {
      "text/plain": [
       "'010'"
      ]
     },
     "metadata": {},
     "execution_count": 26
    }
   ],
   "source": [
    "import random\n",
    "randomr_word_id = random.randint(0,14781)\n",
    "cv.get_feature_names()[10]"
   ]
  },
  {
   "cell_type": "code",
   "execution_count": 29,
   "metadata": {},
   "outputs": [
    {
     "output_type": "execute_result",
     "data": {
      "text/plain": [
       "(7, 14781)"
      ]
     },
     "metadata": {},
     "execution_count": 29
    }
   ],
   "source": [
    "# Grab the topic\n",
    "LDA.components_.shape #(topics, components)"
   ]
  },
  {
   "cell_type": "code",
   "execution_count": 31,
   "metadata": {},
   "outputs": [
    {
     "output_type": "stream",
     "name": "stdout",
     "text": [
      "[ 2727 14686 11537 ...  9049  3797  8128]\n"
     ]
    }
   ],
   "source": [
    "single_topic = LDA.components_[0]\n",
    "\n",
    "print(single_topic.argsort())"
   ]
  },
  {
   "cell_type": "code",
   "execution_count": 33,
   "metadata": {},
   "outputs": [
    {
     "output_type": "stream",
     "name": "stdout",
     "text": [
      "[ 10 200   1]\n[2 0 1]\n"
     ]
    }
   ],
   "source": [
    "import numpy as np  \n",
    "arr = np.array([10,200,1])\n",
    "print(arr)\n",
    "print(arr.argsort())"
   ]
  },
  {
   "cell_type": "code",
   "execution_count": 34,
   "metadata": {},
   "outputs": [
    {
     "output_type": "execute_result",
     "data": {
      "text/plain": [
       "array([ 8209,  2257,  8127,  7877,  7225, 14491, 10984,  9049,  3797,\n",
       "        8128], dtype=int64)"
      ]
     },
     "metadata": {},
     "execution_count": 34
    }
   ],
   "source": [
    "# ARGSORT ---> INDEX POSITIONS SORTED FROM LEAST --> GREATEST\n",
    "# TOP 10 VALUES (10 GREATEST VALUES)\n",
    "# LAST 10 VALUES of ARGSORT()\n",
    "single_topic.argsort()[-10:] # grab the Last 10 values of .argsort()"
   ]
  },
  {
   "cell_type": "code",
   "execution_count": 41,
   "metadata": {},
   "outputs": [
    {
     "output_type": "stream",
     "name": "stdout",
     "text": [
      "ligger\nbeliggende\nlejlighed\nkøkken\nkan\nwww\nsamt\nm²\nejendommen\nlejligheden\n"
     ]
    }
   ],
   "source": [
    "top_ten_words = single_topic.argsort()[-10:]\n",
    "for index in top_ten_words:\n",
    "    print(cv.get_feature_names()[index])"
   ]
  },
  {
   "cell_type": "code",
   "execution_count": 44,
   "metadata": {},
   "outputs": [
    {
     "output_type": "stream",
     "name": "stdout",
     "text": [
      "THE TOP 10 WORDS FOR TOPIC #0\n",
      "['ligger', 'beliggende', 'lejlighed', 'køkken', 'kan', 'www', 'samt', 'm²', 'ejendommen', 'lejligheden']\n",
      "\n",
      "\n",
      "\n",
      "\n",
      "THE TOP 10 WORDS FOR TOPIC #1\n",
      "['store', 'm2', 'stor', 'ved', 'www', 'beliggende', 'flot', 'kvm', 'ejendommen', 'samt']\n",
      "\n",
      "\n",
      "\n",
      "\n",
      "THE TOP 10 WORDS FOR TOPIC #2\n",
      "['mellem', '10', 'gode', 'home', 'samtidig', 'helt', 'kort', 'mulighed', 'lejligheden', 'kan']\n",
      "\n",
      "\n",
      "\n",
      "\n",
      "THE TOP 10 WORDS FOR TOPIC #3\n",
      "['sommerhus', 'beliggende', 'vesterhavet', 'ringkøbing', 'både', 'horsens', 'kan', 'ca', 'området', 'ligger']\n",
      "\n",
      "\n",
      "\n",
      "\n",
      "THE TOP 10 WORDS FOR TOPIC #4\n",
      "['plads', 'kan', 'stort', 'gode', 'stor', 'huset', 'køkken', 'badeværelse', 'god', 'samt']\n",
      "\n",
      "\n",
      "\n",
      "\n",
      "THE TOP 10 WORDS FOR TOPIC #5\n",
      "['både', 'store', 'ligger', 'plads', 'værelser', 'køkken', 'får', 'to', 'så', 'kan']\n",
      "\n",
      "\n",
      "\n",
      "\n",
      "THE TOP 10 WORDS FOR TOPIC #6\n",
      "['beliggende', 'mulighed', 'stue', 'klar', 'husene', 'boligerne', 'udbydes', 'boliger', 'bolig', 'køkken']\n",
      "\n",
      "\n",
      "\n",
      "\n"
     ]
    }
   ],
   "source": [
    "# Grab the highest probability words per topic\n",
    "for i,topic in enumerate(LDA.components_):\n",
    "    print(f\"THE TOP 10 WORDS FOR TOPIC #{i}\")\n",
    "    print([cv.get_feature_names()[index] for index in topic.argsort()[-10:]])\n",
    "    print('\\n')\n",
    "    print('\\n')"
   ]
  },
  {
   "cell_type": "code",
   "execution_count": 45,
   "metadata": {},
   "outputs": [
    {
     "output_type": "execute_result",
     "data": {
      "text/plain": [
       "<2500x14781 sparse matrix of type '<class 'numpy.int64'>'\n",
       "\twith 320717 stored elements in Compressed Sparse Row format>"
      ]
     },
     "metadata": {},
     "execution_count": 45
    }
   ],
   "source": [
    "dtm"
   ]
  },
  {
   "cell_type": "code",
   "execution_count": 50,
   "metadata": {},
   "outputs": [
    {
     "output_type": "execute_result",
     "data": {
      "text/plain": [
       "5"
      ]
     },
     "metadata": {},
     "execution_count": 50
    }
   ],
   "source": [
    "topic_results = LDA.transform(dtm)\n",
    "topic_results.shape\n",
    "topic_results[0].round(2)\n",
    "topic_results[0].argmax()"
   ]
  },
  {
   "cell_type": "code",
   "execution_count": 56,
   "metadata": {},
   "outputs": [
    {
     "output_type": "stream",
     "name": "stdout",
     "text": [
      "                                                   text  Topic\n0     I det populære Paarup udbydes her en dejlig vi...      5\n1     Går du med en drøm om at lave din helt egen bo...      4\n2     Ejendommen befinder sig i naturskønne Sdr. Vis...      4\n3     Meget rummelig etplansvilla med god beliggenhe...      4\n4     Beliggenhed: Tæt på havet syd for Skagen, i Ål...      0\n...                                                 ...    ...\n2495  CHARMERENDE RØDSTENSVILLA TIL DEN LILLE FAMILI...      5\n2496  Rigtigt pænt og velholdt parcelhus beliggende ...      4\n2497  Lige i hjertet af Valby finder du denne virkel...      4\n2498  På Kragekærvej 5  lige der hvor vejen slår en ...      5\n2499  Moderne velbygget og funktionel familievilla i...      4\n\n[2500 rows x 2 columns]\n"
     ]
    }
   ],
   "source": [
    "npr['Topic'] = topic_results.argmax(axis=1)\n",
    "print(npr)"
   ]
  },
  {
   "cell_type": "code",
   "execution_count": null,
   "metadata": {},
   "outputs": [],
   "source": []
  }
 ]
}