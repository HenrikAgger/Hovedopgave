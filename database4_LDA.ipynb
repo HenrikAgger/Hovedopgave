{
 "metadata": {
  "language_info": {
   "codemirror_mode": {
    "name": "ipython",
    "version": 3
   },
   "file_extension": ".py",
   "mimetype": "text/x-python",
   "name": "python",
   "nbconvert_exporter": "python",
   "pygments_lexer": "ipython3",
   "version": "3.8.5-final"
  },
  "orig_nbformat": 2,
  "kernelspec": {
   "name": "python3",
   "display_name": "Python 3"
  }
 },
 "nbformat": 4,
 "nbformat_minor": 2,
 "cells": [
  {
   "cell_type": "code",
   "execution_count": 2,
   "metadata": {},
   "outputs": [
    {
     "output_type": "execute_result",
     "data": {
      "text/plain": [
       "'I det populære Paarup udbydes her en dejlig villa i ét plan, hvor husets muligheder ingen begrænsninger har. Huset er velholdt, lyst og imødekommende og giver et godt helhedsindtryk fra start til slut. Den nuværende planløsning er ideel til parret eller den lille familie, der vil have hus og have og en helt ekseptionelt god beliggenhed. Ejendommen ude som inde er velholdt og lige til at gå til. Huset rummer et dejligt køkken, som ligger opad stue og udestue - med andre ord kan du let og hurtigt gøre drømmen om et køkkenalrum til virkelighed. Endvidere findes et dejligt rummeligt bryggers, der i dagligdagen fungerer som praktisk indgang. Husets to store værelser ligger i forlængelse af den nuværende spisestue. Det ene værelse har oprindeligt været to, men for at få store og åbne rum, er der sidenhen prioriteret to store værelser i stedet. Dette kan let reetableres, så huset vil rumme to børneværelser og ét forældresoveværelse. Og netop sidstnævnte har eget badeværelse, mens der fra spisestuen kan tilgås gæstetoilet. Huset ligger helt ideelt på grunden og gør, at have og udemiljøe kan prioriteres efter ønske. Baghaven er uforstyrret og med træbevoksning i bunden, som giver hygge og idyl, på en ellers central og bynær beliggenhed. Der findes carport og værksted til grunden, som står i pæn stand. Særligt én ting giver beliggenheden på Stellavej 3 karakter. Fra adressen regnes de fleste afstande nemlig ikke i kilometer, men i meter. Ved blot 5-10 minutters gang findes indkøbsmuligheder, offentlig transport, skole, daginstitution, Paarup-hallens idrætsfaciliteter og ikke mindst naturomgivelser, der giver en fantastisk gåtur. Til Odense bymidte er der ligeledes ikke langt, men behovet for gågaden og Rosengårdscentret er minimal, med det store udvalg der findes i Tarup Centrets mange butikker og muligheder. EDC Tarup - vi glæder os til at fremvise denne mulighedsrige étplansvilla. Velkommen til!,https://www.edc.dk/alle-boliger/odense-nv/5210/stellavej-3/?sagsnr=52102348'"
      ]
     },
     "metadata": {},
     "execution_count": 2
    }
   ],
   "source": [
    "import pandas as pd\n",
    "header_names=['text']\n",
    "npr = pd.read_csv('descriptions.csv', header=None, skiprows=1, names=header_names, sep='\\n')\n",
    "#npr.head()\n",
    "\n",
    "\n",
    "npr['text'][0]\n",
    "#len(npr)"
   ]
  },
  {
   "cell_type": "code",
   "execution_count": 15,
   "metadata": {},
   "outputs": [
    {
     "output_type": "execute_result",
     "data": {
      "text/plain": [
       "<2500x14781 sparse matrix of type '<class 'numpy.int64'>'\n",
       "\twith 320717 stored elements in Compressed Sparse Row format>"
      ]
     },
     "metadata": {},
     "execution_count": 15
    }
   ],
   "source": [
    "from nltk.corpus import stopwords\n",
    "dansk = stopwords.words('danish')\n",
    "\n",
    "from sklearn.feature_extraction.text import CountVectorizer\n",
    "cv = CountVectorizer(max_df=0.9, min_df=2, stop_words=dansk)\n",
    "dtm = cv.fit_transform(npr['text'])\n",
    "dtm"
   ]
  },
  {
   "cell_type": "code",
   "execution_count": 16,
   "metadata": {},
   "outputs": [
    {
     "output_type": "stream",
     "name": "stdout",
     "text": [
      "og\ni\njeg\ndet\nat\nen\nden\ntil\ner\nsom\npå\nde\nmed\nhan\naf\nfor\nikke\nder\nvar\nmig\nsig\nmen\net\nhar\nom\nvi\nmin\nhavde\nham\nhun\nnu\nover\nda\nfra\ndu\nud\nsin\ndem\nos\nop\nman\nhans\nhvor\neller\nhvad\nskal\nselv\nher\nalle\nvil\nblev\nkunne\nind\nnår\nvære\ndog\nnoget\nville\njo\nderes\nefter\nned\nskulle\ndenne\nend\ndette\nmit\nogså\nunder\nhave\ndig\nanden\nhende\nmine\nalt\nmeget\nsit\nsine\nvor\nmod\ndisse\nhvis\ndin\nnogle\nhos\nblive\nmange\nad\nbliver\nhendes\nværet\nthi\njer\nsådan\n"
     ]
    }
   ],
   "source": [
    "for v in dansk:\n",
    "    print(v)"
   ]
  },
  {
   "cell_type": "code",
   "execution_count": 6,
   "metadata": {},
   "outputs": [
    {
     "output_type": "execute_result",
     "data": {
      "text/plain": [
       "LatentDirichletAllocation(n_components=7, random_state=42)"
      ]
     },
     "metadata": {},
     "execution_count": 6
    }
   ],
   "source": [
    "from sklearn.decomposition import LatentDirichletAllocation\n",
    "LDA = LatentDirichletAllocation(n_components=7, random_state=42)\n",
    "LDA.fit(dtm)\n"
   ]
  },
  {
   "cell_type": "code",
   "execution_count": 7,
   "metadata": {},
   "outputs": [
    {
     "output_type": "execute_result",
     "data": {
      "text/plain": [
       "14781"
      ]
     },
     "metadata": {},
     "execution_count": 7
    }
   ],
   "source": [
    "# Grab the vocabulary of words\n",
    "len(cv.get_feature_names())\n",
    "#cv.get_feature_names()[11000]\n"
   ]
  },
  {
   "cell_type": "code",
   "execution_count": 8,
   "metadata": {},
   "outputs": [
    {
     "output_type": "execute_result",
     "data": {
      "text/plain": [
       "'010'"
      ]
     },
     "metadata": {},
     "execution_count": 8
    }
   ],
   "source": [
    "import random\n",
    "random_word_id = random.randint(0,14817)\n",
    "cv.get_feature_names()[10]"
   ]
  },
  {
   "cell_type": "code",
   "execution_count": 16,
   "metadata": {},
   "outputs": [
    {
     "output_type": "execute_result",
     "data": {
      "text/plain": [
       "7"
      ]
     },
     "metadata": {},
     "execution_count": 16
    }
   ],
   "source": [
    "# Grab the topics\n",
    "len(LDA.components_)"
   ]
  },
  {
   "cell_type": "code",
   "execution_count": 9,
   "metadata": {},
   "outputs": [
    {
     "output_type": "execute_result",
     "data": {
      "text/plain": [
       "numpy.ndarray"
      ]
     },
     "metadata": {},
     "execution_count": 9
    }
   ],
   "source": [
    "type(LDA.components_)\n"
   ]
  },
  {
   "cell_type": "code",
   "execution_count": 10,
   "metadata": {},
   "outputs": [
    {
     "output_type": "execute_result",
     "data": {
      "text/plain": [
       "array([[18.18460874, 91.21239532,  0.14300489, ...,  1.23685855,\n",
       "        39.1336679 , 20.66895259],\n",
       "       [ 0.50347686,  3.75339618,  0.14285715, ...,  0.14312445,\n",
       "         3.37986955,  0.14310702],\n",
       "       [ 0.14299275, 28.51615494,  4.14238868, ...,  0.14285716,\n",
       "         0.5468756 ,  4.85165704],\n",
       "       ...,\n",
       "       [26.83925552, 22.82927186,  0.14294841, ...,  0.14285715,\n",
       "        42.69796696, 11.39654502],\n",
       "       [ 8.04385058,  6.43919484,  0.14308653, ...,  0.14285715,\n",
       "        30.55742228, 42.65383939],\n",
       "       [ 0.14294332, 19.54417523,  0.14285716, ...,  0.14285718,\n",
       "         0.14325888,  0.14302355]])"
      ]
     },
     "metadata": {},
     "execution_count": 10
    }
   ],
   "source": [
    "LDA.components_.shape\n",
    "LDA.components_"
   ]
  },
  {
   "cell_type": "code",
   "execution_count": 11,
   "metadata": {},
   "outputs": [
    {
     "output_type": "execute_result",
     "data": {
      "text/plain": [
       "array([ 2727, 14686, 11537, ...,  9049,  3797,  8128], dtype=int64)"
      ]
     },
     "metadata": {},
     "execution_count": 11
    }
   ],
   "source": [
    "single_topic = LDA.components_[0]\n",
    "single_topic.argsort()"
   ]
  },
  {
   "cell_type": "code",
   "execution_count": 12,
   "metadata": {},
   "outputs": [
    {
     "output_type": "execute_result",
     "data": {
      "text/plain": [
       "array([ 10, 200,   1])"
      ]
     },
     "metadata": {},
     "execution_count": 12
    }
   ],
   "source": [
    "import numpy as np\n",
    "arr = np.array([10,200,1])\n",
    "arr"
   ]
  },
  {
   "cell_type": "code",
   "execution_count": 23,
   "metadata": {},
   "outputs": [
    {
     "output_type": "execute_result",
     "data": {
      "text/plain": [
       "array([2, 0, 1], dtype=int64)"
      ]
     },
     "metadata": {},
     "execution_count": 23
    }
   ],
   "source": [
    "arr.argsort()"
   ]
  },
  {
   "cell_type": "code",
   "execution_count": 13,
   "metadata": {},
   "outputs": [
    {
     "output_type": "execute_result",
     "data": {
      "text/plain": [
       "array([ 8209,  2257,  8127,  7877,  7225, 14491, 10984,  9049,  3797,\n",
       "        8128], dtype=int64)"
      ]
     },
     "metadata": {},
     "execution_count": 13
    }
   ],
   "source": [
    "# ARGSORT ---> INDEX POSITIONS SORTED FROM LEAST --> GREATEST\n",
    "# TOP 10 VALUES (10 GERATEST VALUES)\n",
    "# LAST 10 VALUES of ARGSORT()\n",
    "single_topic.argsort()[-10:] # grab the last 10 values of .argsort()"
   ]
  },
  {
   "cell_type": "code",
   "execution_count": 14,
   "metadata": {},
   "outputs": [
    {
     "output_type": "stream",
     "name": "stdout",
     "text": [
      "stor\n",
      "tæt\n",
      "toilet\n",
      "stort\n",
      "lejemålet\n",
      "opført\n",
      "adgang\n",
      "ca\n",
      "ved\n",
      "god\n",
      "ligger\n",
      "beliggende\n",
      "lejlighed\n",
      "køkken\n",
      "kan\n",
      "www\n",
      "samt\n",
      "m²\n",
      "ejendommen\n",
      "lejligheden\n"
     ]
    }
   ],
   "source": [
    "top_twenty_words = single_topic.argsort()[-20:]\n",
    "for index in top_twenty_words:\n",
    "    print(cv.get_feature_names()[index])"
   ]
  },
  {
   "cell_type": "code",
   "execution_count": 30,
   "metadata": {},
   "outputs": [
    {
     "output_type": "stream",
     "name": "stdout",
     "text": [
      "THE TOP 15 WORDS FOR TOPIC #0\n",
      "['m²', 'gulvvarme', 'www', 'stue', 'fra', 'udgang', 'bryggers', 'et', 'som', 'stort', 'køkken', 'stor', 'badeværelse', 'af', 'samt']\n",
      "\n",
      "\n",
      "\n",
      "\n",
      "THE TOP 15 WORDS FOR TOPIC #1\n",
      "['ca', 'om', 'ikke', 'mulighed', 'samt', 'har', 'det', 'den', 'kan', 'fra', 'ejendommen', 'som', 'm²', 'et', 'af']\n",
      "\n",
      "\n",
      "\n",
      "\n",
      "THE TOP 15 WORDS FOR TOPIC #2\n",
      "['stort', 'ejendommen', 'ca', 'det', 'køkken', 'badeværelse', 'som', 'm2', 'har', 'den', 'samt', 'huset', 'fra', 'af', 'et']\n",
      "\n",
      "\n",
      "\n",
      "\n",
      "THE TOP 15 WORDS FOR TOPIC #3\n",
      "['pa', 'flot', 'som', 'kvm', 'gode', 'ejendomme', 'ejendommen', 'et', 'samt', 'fra', 'har', 'c3', 'beliggende', 'af', 'lejemålet']\n",
      "\n",
      "\n",
      "\n",
      "\n",
      "THE TOP 15 WORDS FOR TOPIC #4\n",
      "['værelser', 'får', 'sig', 'også', 'jer', 'hvor', 'så', 'fra', 'har', 'som', 'det', 'kan', 'den', 'af', 'et']\n",
      "\n",
      "\n",
      "\n",
      "\n",
      "THE TOP 15 WORDS FOR TOPIC #5\n",
      "['store', 'gode', 'kan', 'man', 'plads', 'det', 'god', 'den', 'samt', 'som', 'af', 'fra', 'har', 'et', 'du']\n",
      "\n",
      "\n",
      "\n",
      "\n",
      "THE TOP 15 WORDS FOR TOPIC #6\n",
      "['du', 'ligger', 'så', 'sig', 'køkken', 'hvor', 'lejligheden', 'kan', 'har', 'fra', 'som', 'den', 'af', 'det', 'et']\n",
      "\n",
      "\n",
      "\n",
      "\n"
     ]
    }
   ],
   "source": [
    "# Grab the highest probability words per topic\n",
    "\n",
    "for i, topic in enumerate(LDA.components_):\n",
    "    print(f\"THE TOP 15 WORDS FOR TOPIC #{i}\")\n",
    "    print([cv.get_feature_names()[index] for index in topic.argsort()[-15:]])\n",
    "    print('\\n')\n",
    "    print('\\n')"
   ]
  },
  {
   "cell_type": "code",
   "execution_count": 33,
   "metadata": {},
   "outputs": [
    {
     "output_type": "execute_result",
     "data": {
      "text/plain": [
       "<2500x14817 sparse matrix of type '<class 'numpy.int64'>'\n",
       "\twith 358349 stored elements in Compressed Sparse Row format>"
      ]
     },
     "metadata": {},
     "execution_count": 33
    }
   ],
   "source": [
    "dtm"
   ]
  },
  {
   "cell_type": "code",
   "execution_count": 36,
   "metadata": {},
   "outputs": [
    {
     "output_type": "execute_result",
     "data": {
      "text/plain": [
       "array([0.  , 0.12, 0.  , 0.  , 0.45, 0.42, 0.  ])"
      ]
     },
     "metadata": {},
     "execution_count": 36
    }
   ],
   "source": [
    "topic_results = LDA.transform(dtm)\n",
    "topic_results[0].round(2)"
   ]
  },
  {
   "cell_type": "code",
   "execution_count": 40,
   "metadata": {},
   "outputs": [
    {
     "output_type": "execute_result",
     "data": {
      "text/plain": [
       "0    I det populære Paarup udbydes her en dejlig vi...\n",
       "Name: text, dtype: object"
      ]
     },
     "metadata": {},
     "execution_count": 40
    }
   ],
   "source": [
    "npr['text'][0]"
   ]
  },
  {
   "cell_type": "code",
   "execution_count": 41,
   "metadata": {},
   "outputs": [
    {
     "output_type": "execute_result",
     "data": {
      "text/plain": [
       "4"
      ]
     },
     "metadata": {},
     "execution_count": 41
    }
   ],
   "source": [
    "topic_results[0].argmax()"
   ]
  },
  {
   "cell_type": "code",
   "execution_count": 42,
   "metadata": {},
   "outputs": [
    {
     "output_type": "execute_result",
     "data": {
      "text/plain": [
       "      text\n",
       "0        4\n",
       "1        5\n",
       "2        5\n",
       "3        5\n",
       "4        3\n",
       "...    ...\n",
       "2495     4\n",
       "2496     5\n",
       "2497     5\n",
       "2498     4\n",
       "2499     2\n",
       "\n",
       "[2500 rows x 1 columns]"
      ],
      "text/html": "<div>\n<style scoped>\n    .dataframe tbody tr th:only-of-type {\n        vertical-align: middle;\n    }\n\n    .dataframe tbody tr th {\n        vertical-align: top;\n    }\n\n    .dataframe thead th {\n        text-align: right;\n    }\n</style>\n<table border=\"1\" class=\"dataframe\">\n  <thead>\n    <tr style=\"text-align: right;\">\n      <th></th>\n      <th>text</th>\n    </tr>\n  </thead>\n  <tbody>\n    <tr>\n      <th>0</th>\n      <td>4</td>\n    </tr>\n    <tr>\n      <th>1</th>\n      <td>5</td>\n    </tr>\n    <tr>\n      <th>2</th>\n      <td>5</td>\n    </tr>\n    <tr>\n      <th>3</th>\n      <td>5</td>\n    </tr>\n    <tr>\n      <th>4</th>\n      <td>3</td>\n    </tr>\n    <tr>\n      <th>...</th>\n      <td>...</td>\n    </tr>\n    <tr>\n      <th>2495</th>\n      <td>4</td>\n    </tr>\n    <tr>\n      <th>2496</th>\n      <td>5</td>\n    </tr>\n    <tr>\n      <th>2497</th>\n      <td>5</td>\n    </tr>\n    <tr>\n      <th>2498</th>\n      <td>4</td>\n    </tr>\n    <tr>\n      <th>2499</th>\n      <td>2</td>\n    </tr>\n  </tbody>\n</table>\n<p>2500 rows × 1 columns</p>\n</div>"
     },
     "metadata": {},
     "execution_count": 42
    }
   ],
   "source": [
    "npr['text'] = topic_results.argmax(axis=1)\n",
    "npr"
   ]
  },
  {
   "cell_type": "code",
   "execution_count": null,
   "metadata": {},
   "outputs": [],
   "source": []
  }
 ]
}