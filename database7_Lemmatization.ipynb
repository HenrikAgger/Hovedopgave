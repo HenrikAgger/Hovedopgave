{
 "metadata": {
  "language_info": {
   "codemirror_mode": {
    "name": "ipython",
    "version": 3
   },
   "file_extension": ".py",
   "mimetype": "text/x-python",
   "name": "python",
   "nbconvert_exporter": "python",
   "pygments_lexer": "ipython3",
   "version": "3.8.5-final"
  },
  "orig_nbformat": 2,
  "kernelspec": {
   "name": "python3",
   "display_name": "Python 3"
  }
 },
 "nbformat": 4,
 "nbformat_minor": 2,
 "cells": [
  {
   "cell_type": "code",
   "execution_count": 1,
   "metadata": {},
   "outputs": [],
   "source": [
    "import spacy\n",
    "nlp = spacy.load('da_core_news_sm')\n",
    "doc1 = nlp(u\"Jeg er en løber som løber i et ræs fordi jeg elsker at løbe eftersom jeg løb i dag\")\n"
   ]
  },
  {
   "cell_type": "code",
   "execution_count": 2,
   "metadata": {},
   "outputs": [
    {
     "output_type": "stream",
     "name": "stdout",
     "text": [
      "Jeg \t PRON \t 7224273143139097526 \t Jeg\ner \t AUX \t 14778954271633840011 \t være\nen \t DET \t 14626626061804382878 \t en\nløber \t NOUN \t 15235518644717179891 \t løbe\nsom \t ADP \t 1318411374457351833 \t som\nløber \t NOUN \t 15235518644717179891 \t løbe\ni \t ADP \t 5097672513440128799 \t i\net \t DET \t 14626626061804382878 \t en\nræs \t NOUN \t 17085653689860468338 \t ræs\nfordi \t SCONJ \t 7221356659873961315 \t fordi\njeg \t PRON \t 17501718802799354958 \t jeg\nelsker \t VERB \t 17785455640378275751 \t elske\nat \t PART \t 11667289587015813222 \t at\nløbe \t VERB \t 15235518644717179891 \t løbe\neftersom \t ADJ \t 18190330826926965615 \t eftersom\njeg \t PRON \t 17501718802799354958 \t jeg\nløb \t VERB \t 4257198933862881043 \t løb\ni \t ADP \t 5097672513440128799 \t i\ndag \t NOUN \t 14082279552211029069 \t dag\n"
     ]
    }
   ],
   "source": [
    "for token in doc1:\n",
    "    print(token.text, '\\t',token.pos_,'\\t', token.lemma,'\\t',token.lemma_)\n",
    "    "
   ]
  },
  {
   "cell_type": "code",
   "execution_count": 3,
   "metadata": {},
   "outputs": [],
   "source": [
    "def show_lemmas(text):\n",
    "    for token in text:\n",
    "        print(f'{token.text:{12}} {token.pos_:{6}} {token.lemma:<{22}} {token.lemma_}')\n",
    "        "
   ]
  },
  {
   "cell_type": "code",
   "execution_count": 5,
   "metadata": {},
   "outputs": [
    {
     "output_type": "stream",
     "name": "stdout",
     "text": [
      "Jeg          PRON   7224273143139097526    Jeg\nså           VERB   16736968602332866724   så\nti           NUM    5979457044106899080    tie\nmus          NOUN   14099929957785963375   mus\ni            ADP    5097672513440128799    i\ndag          NOUN   14082279552211029069   dag\n!            PUNCT  17494803046312582752   !\n"
     ]
    }
   ],
   "source": [
    "doc2 = nlp(u\"Jeg så ti mus i dag!\")\n",
    "show_lemmas(doc2)"
   ]
  },
  {
   "cell_type": "code",
   "execution_count": null,
   "metadata": {},
   "outputs": [],
   "source": []
  }
 ]
}