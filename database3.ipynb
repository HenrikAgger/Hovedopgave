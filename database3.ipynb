{
 "metadata": {
  "language_info": {
   "codemirror_mode": {
    "name": "ipython",
    "version": 3
   },
   "file_extension": ".py",
   "mimetype": "text/x-python",
   "name": "python",
   "nbconvert_exporter": "python",
   "pygments_lexer": "ipython3",
   "version": "3.8.5-final"
  },
  "orig_nbformat": 2,
  "kernelspec": {
   "name": "python3",
   "display_name": "Python 3"
  }
 },
 "nbformat": 4,
 "nbformat_minor": 2,
 "cells": [
  {
   "cell_type": "code",
   "execution_count": 4,
   "metadata": {},
   "outputs": [
    {
     "output_type": "execute_result",
     "data": {
      "text/plain": [
       "'I det populære Paarup udbydes her en dejlig villa i ét plan, hvor husets muligheder ingen begrænsninger har. Huset er velholdt, lyst og imødekommende og giver et godt helhedsindtryk fra start til slut. Den nuværende planløsning er ideel til parret eller den lille familie, der vil have hus og have og en helt ekseptionelt god beliggenhed. Ejendommen ude som inde er velholdt og lige til at gå til. Huset rummer et dejligt køkken, som ligger opad stue og udestue - med andre ord kan du let og hurtigt gøre drømmen om et køkkenalrum til virkelighed. Endvidere findes et dejligt rummeligt bryggers, der i dagligdagen fungerer som praktisk indgang. Husets to store værelser ligger i forlængelse af den nuværende spisestue. Det ene værelse har oprindeligt været to, men for at få store og åbne rum, er der sidenhen prioriteret to store værelser i stedet. Dette kan let reetableres, så huset vil rumme to børneværelser og ét forældresoveværelse. Og netop sidstnævnte har eget badeværelse, mens der fra spisestuen kan tilgås gæstetoilet. Huset ligger helt ideelt på grunden og gør, at have og udemiljøe kan prioriteres efter ønske. Baghaven er uforstyrret og med træbevoksning i bunden, som giver hygge og idyl, på en ellers central og bynær beliggenhed. Der findes carport og værksted til grunden, som står i pæn stand. Særligt én ting giver beliggenheden på Stellavej 3 karakter. Fra adressen regnes de fleste afstande nemlig ikke i kilometer, men i meter. Ved blot 5-10 minutters gang findes indkøbsmuligheder, offentlig transport, skole, daginstitution, Paarup-hallens idrætsfaciliteter og ikke mindst naturomgivelser, der giver en fantastisk gåtur. Til Odense bymidte er der ligeledes ikke langt, men behovet for gågaden og Rosengårdscentret er minimal, med det store udvalg der findes i Tarup Centrets mange butikker og muligheder. EDC Tarup - vi glæder os til at fremvise denne mulighedsrige étplansvilla. Velkommen til!,https://www.edc.dk/alle-boliger/odense-nv/5210/stellavej-3/?sagsnr=52102348'"
      ]
     },
     "metadata": {},
     "execution_count": 4
    }
   ],
   "source": [
    "import pandas as pd\n",
    "header_names=['text']\n",
    "quora = pd.read_csv('descriptions.csv', header=None, skiprows=1, names=header_names, sep='\\n')\n",
    "#quora.head()\n",
    "quora['text'][0]"
   ]
  },
  {
   "cell_type": "code",
   "execution_count": 6,
   "metadata": {},
   "outputs": [
    {
     "output_type": "execute_result",
     "data": {
      "text/plain": [
       "<2500x14820 sparse matrix of type '<class 'numpy.float64'>'\n",
       "\twith 365338 stored elements in Compressed Sparse Row format>"
      ]
     },
     "metadata": {},
     "execution_count": 6
    }
   ],
   "source": [
    "from sklearn.feature_extraction.text import TfidfVectorizer\n",
    "\n",
    "tfidf = TfidfVectorizer(max_df=0.95,min_df=2, stop_words='english') # SKAL ÆNDRES TIL 'danish' Se stop_words\n",
    "\n",
    "dtm = tfidf.fit_transform(quora['text'])\n",
    "\n",
    "dtm"
   ]
  },
  {
   "cell_type": "code",
   "execution_count": 3,
   "metadata": {},
   "outputs": [
    {
     "output_type": "stream",
     "name": "stdout",
     "text": [
      "{'foran', 'for', 'anden', 'hendes', 'en', 'hende', 'hvorfra', 'hvilken', 'op', 'siden', 'vil', 'uden', 'vær', 'kunne', 'overalt', 'således', 'temmelig', 'gjorde', 'hvilkes', 'næste', 'den', 'bør', 'kom', 'langs', 'alt', 'blive', 'hel', 'herpå', 'ingen', 'lavet', 'man', 'ned', 'sådan', 'senere', 'enhver', 'i', 'er', 'meget', 'stadig', 'som', 'hvorved', 'være', 'disse', 'flest', 'mens', 'ens', 'enten', 'hvad', 'været', 'dog', 'herefter', 'imellem', 'mig', 'kommer', 'dem', 'hvorhen', 'nær', 'ligesom', 'denne', 'hun', 'derved', 'indtil', 'hvorfor', 'selv', 'vi', 'ellers', 'altid', 'alene', 'sammen', 'dette', 'flere', 'imens', 'det', 'dig', 'eller', 'hvorimod', 'at', 'få', 'jo', 'via', 'fleste', 'havde', 'der', 'hvori', 'jeg', 'jeres', 'udover', 'mine', 'deri', 'hvorefter', 'nemlig', 'nogle', 'heller', 'efter', 'hver', 'hvor', 'nogen', 'mit', 'øvrigt', 'igennem', 'gørende', 'fordi', 'intet', 'med', 'dermed', 'mindst', 'derfor', 'af', 'over', 'ved', 'noget', 'under', 'hen', 'skulle', 'måske', 'hvis', 'allerede', 'dens', 'lidt', 'men', 'jer', 'gør', 'henover', 'ham', 'hvordan', 'først', 'bag', 'om', 'alligevel', 'andre', 'nu', 'så', 'må', 'de', 'blandt', 'og', 'mange', 'deres', 'andet', 'var', 'forrige', 'have', 'omkring', 'nok', 'gjort', 'alle', 'lille', 'ny', 'synes', 'kan', 'egen', 'et', 'sige', 'hvornår', 'hvilke', 'lige', 'nyt', 'da', 'tilbage', 'lave', 'har', 'før', 'gøre', 'derfra', 'endnu', 'på', 'aldrig', 'mest', 'mere', 'os', 'eneste', 'vore', 'tit', 'ind', 'hvem', 'til', 'vores', 'blev', 'han', 'mindre', 'end', 'ville', 'næsten', 'fra', 'her', 'nogensinde', 'sig', 'igen', 'tidligere', 'god', 'syntes', 'dine', 'ikke', 'mellem', 'ud', 'selvom', 'hans', 'imod', 'kun', 'bliver', 'samme', 'skal', 'hermed', 'længere', 'begge', 'burde', 'min', 'derefter', 'lav', 'undtagen', 'din', 'du', 'derpå', 'også', 'gennem', 'heri', 'ses', 'ene', 'lad'}\n"
     ]
    }
   ],
   "source": [
    "import spacy\n",
    "nlp = spacy.load('da_core_news_sm')\n",
    "print(nlp.Defaults.stop_words)"
   ]
  },
  {
   "cell_type": "code",
   "execution_count": 11,
   "metadata": {},
   "outputs": [
    {
     "output_type": "stream",
     "name": "stdout",
     "text": [
      "run----->run\nrunner----->runner\nran----->ran\nruns----->run\neasily----->easili\nfairly----->fairli\n"
     ]
    }
   ],
   "source": [
    "import nltk\n",
    "from nltk.stem.porter import PorterStemmer\n",
    "p_stemmer = PorterStemmer()\n",
    "words = ['run', 'runner', 'ran', 'runs', 'easily', 'fairly']\n",
    "for word in words:\n",
    "    print(word + '----->' + p_stemmer.stem(word))"
   ]
  },
  {
   "cell_type": "code",
   "execution_count": 16,
   "metadata": {},
   "outputs": [
    {
     "output_type": "stream",
     "name": "stdout",
     "text": [
      "håndværkertilbudene ----->håndværkertilbud\nfaldefærdige ----->faldefærd\nødelæg ----->ødelæg\n"
     ]
    }
   ],
   "source": [
    "# Interessant - SnowballStemmer\n",
    "from nltk.stem.snowball import SnowballStemmer\n",
    "words = ['håndværkertilbudene', 'faldefærdige', 'ødelæg']\n",
    "s_stemmer = SnowballStemmer(language='danish')\n",
    "for word in words:\n",
    "    print(word + ' ----->' + s_stemmer.stem(word))"
   ]
  },
  {
   "cell_type": "code",
   "execution_count": null,
   "metadata": {},
   "outputs": [],
   "source": []
  }
 ]
}