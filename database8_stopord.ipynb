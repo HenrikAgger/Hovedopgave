{
 "metadata": {
  "language_info": {
   "codemirror_mode": {
    "name": "ipython",
    "version": 3
   },
   "file_extension": ".py",
   "mimetype": "text/x-python",
   "name": "python",
   "nbconvert_exporter": "python",
   "pygments_lexer": "ipython3",
   "version": "3.8.5-final"
  },
  "orig_nbformat": 2,
  "kernelspec": {
   "name": "python3",
   "display_name": "Python 3"
  }
 },
 "nbformat": 4,
 "nbformat_minor": 2,
 "cells": [
  {
   "cell_type": "code",
   "execution_count": 3,
   "metadata": {},
   "outputs": [
    {
     "output_type": "stream",
     "name": "stdout",
     "text": [
      "['af', 'aldrig', 'alene', 'alle', 'allerede', 'alligevel', 'alt', 'altid', 'anden', 'andet', 'andre', 'at', 'bag', 'begge', 'blandt', 'blev', 'blive', 'bliver', 'burde', 'bør', 'da', 'de', 'dem', 'den', 'denne', 'dens', 'der', 'derefter', 'deres', 'derfor', 'derfra', 'deri', 'dermed', 'derpå', 'derved', 'det', 'dette', 'dig', 'din', 'dine', 'disse', 'dog', 'du', 'efter', 'egen', 'eller', 'ellers', 'en', 'end', 'endnu', 'ene', 'eneste', 'enhver', 'ens', 'enten', 'er', 'et', 'flere', 'flest', 'fleste', 'for', 'foran', 'fordi', 'forrige', 'fra', 'få', 'før', 'først', 'gennem', 'gjorde', 'gjort', 'god', 'gør', 'gøre', 'gørende', 'ham', 'han', 'hans', 'har', 'havde', 'have', 'hel', 'heller', 'hen', 'hende', 'hendes', 'henover', 'her', 'herefter', 'heri', 'hermed', 'herpå', 'hun', 'hvad', 'hvem', 'hver', 'hvilke', 'hvilken', 'hvilkes', 'hvis', 'hvor', 'hvordan', 'hvorefter', 'hvorfor', 'hvorfra', 'hvorhen', 'hvori', 'hvorimod', 'hvornår', 'hvorved', 'i', 'igen', 'igennem', 'ikke', 'imellem', 'imens', 'imod', 'ind', 'indtil', 'ingen', 'intet', 'jeg', 'jer', 'jeres', 'jo', 'kan', 'kom', 'kommer', 'kun', 'kunne', 'lad', 'langs', 'lav', 'lave', 'lavet', 'lidt', 'lige', 'ligesom', 'lille', 'længere', 'man', 'mange', 'med', 'meget', 'mellem', 'men', 'mens', 'mere', 'mest', 'mig', 'min', 'mindre', 'mindst', 'mine', 'mit', 'må', 'måske', 'ned', 'nemlig', 'nogen', 'nogensinde', 'noget', 'nogle', 'nok', 'nu', 'ny', 'nyt', 'nær', 'næste', 'næsten', 'og', 'også', 'om', 'omkring', 'op', 'os', 'over', 'overalt', 'på', 'samme', 'sammen', 'selv', 'selvom', 'senere', 'ses', 'siden', 'sig', 'sige', 'skal', 'skulle', 'som', 'stadig', 'synes', 'syntes', 'så', 'sådan', 'således', 'temmelig', 'tidligere', 'til', 'tilbage', 'tit', 'ud', 'uden', 'udover', 'under', 'undtagen', 'var', 'ved', 'vi', 'via', 'vil', 'ville', 'vore', 'vores', 'vær', 'være', 'været', 'øvrigt']\n"
     ]
    }
   ],
   "source": [
    "import spacy\n",
    "nlp = spacy.load('da_core_news_sm')\n",
    "#print(nlp.Defaults.stop_words) # A set of stopwords\n",
    "print(sorted(nlp.Defaults.stop_words))"
   ]
  },
  {
   "cell_type": "code",
   "execution_count": 2,
   "metadata": {},
   "outputs": [
    {
     "output_type": "execute_result",
     "data": {
      "text/plain": [
       "219"
      ]
     },
     "metadata": {},
     "execution_count": 2
    }
   ],
   "source": [
    "len(nlp.Defaults.stop_words)"
   ]
  },
  {
   "cell_type": "code",
   "execution_count": 4,
   "metadata": {},
   "outputs": [
    {
     "output_type": "execute_result",
     "data": {
      "text/plain": [
       "False"
      ]
     },
     "metadata": {},
     "execution_count": 4
    }
   ],
   "source": [
    "nlp.vocab['mysterie'].is_stop"
   ]
  },
  {
   "cell_type": "code",
   "execution_count": 4,
   "metadata": {},
   "outputs": [],
   "source": [
    "nlp.Defaults.stop_words.add('dvs.')\n",
    "nlp.vocab['dvs.'].is_stop = True\n",
    "#nlp.vocab[','].is_stop"
   ]
  },
  {
   "cell_type": "code",
   "execution_count": 10,
   "metadata": {},
   "outputs": [
    {
     "output_type": "execute_result",
     "data": {
      "text/plain": [
       "220"
      ]
     },
     "metadata": {},
     "execution_count": 10
    }
   ],
   "source": [
    "len(nlp.Defaults.stop_words)"
   ]
  },
  {
   "cell_type": "code",
   "execution_count": 11,
   "metadata": {},
   "outputs": [
    {
     "output_type": "execute_result",
     "data": {
      "text/plain": [
       "False"
      ]
     },
     "metadata": {},
     "execution_count": 11
    }
   ],
   "source": [
    "nlp.Defaults.stop_words.remove('nogensinde')\n",
    "nlp.vocab['nogensinde'].is_stop = False\n",
    "nlp.vocab['nogensinde'].is_stop "
   ]
  },
  {
   "cell_type": "code",
   "execution_count": null,
   "metadata": {},
   "outputs": [],
   "source": []
  }
 ]
}