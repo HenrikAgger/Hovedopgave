{
 "metadata": {
  "language_info": {
   "codemirror_mode": {
    "name": "ipython",
    "version": 3
   },
   "file_extension": ".py",
   "mimetype": "text/x-python",
   "name": "python",
   "nbconvert_exporter": "python",
   "pygments_lexer": "ipython3",
   "version": "3.8.5-final"
  },
  "orig_nbformat": 2,
  "kernelspec": {
   "name": "python3",
   "display_name": "Python 3"
  }
 },
 "nbformat": 4,
 "nbformat_minor": 2,
 "cells": [
  {
   "cell_type": "code",
   "execution_count": 5,
   "metadata": {},
   "outputs": [
    {
     "output_type": "stream",
     "name": "stdout",
     "text": [
      "I  ------> i\ndet  ------> det\npopulære  ------> populær\nPaarup  ------> paarup\nudbydes  ------> udbyd\nher  ------> her\nen  ------> en\ndejlig  ------> dej\nvilla  ------> villa\ni  ------> i\nét  ------> ét\nplan,  ------> plan,\nhvor  ------> hvor\nhusets  ------> hus\nmuligheder  ------> mul\ningen  ------> ing\nbegrænsninger  ------> begrænsning\nhar.  ------> har.\nHuset  ------> hus\ner  ------> er\nvelholdt,  ------> velholdt,\nlyst  ------> lyst\nog  ------> og\nimødekommende  ------> imødekom\nog  ------> og\ngiver  ------> giv\net  ------> et\ngodt  ------> godt\nhelhedsindtryk  ------> helhedsindtryk\nfra  ------> fra\nstart  ------> start\ntil  ------> til\nslut.  ------> slut.\nDen  ------> den\nnuværende  ------> nuvær\nplanløsning  ------> planløsning\ner  ------> er\nideel  ------> ideel\ntil  ------> til\nparret  ------> par\neller  ------> ell\nden  ------> den\nlille  ------> lil\nfamilie,  ------> familie,\nder  ------> der\nvil  ------> vil\nhave  ------> hav\nhus  ------> hus\nog  ------> og\nhave  ------> hav\nog  ------> og\nen  ------> en\nhelt  ------> helt\nekseptionelt  ------> ekseptionelt\ngod  ------> god\nbeliggenhed.  ------> beliggenhed.\nEjendommen  ------> ejendom\nude  ------> ude\nsom  ------> som\ninde  ------> ind\ner  ------> er\nvelholdt  ------> velhold\nog  ------> og\nlige  ------> lig\ntil  ------> til\nat  ------> at\ngå  ------> gå\ntil.  ------> til.\nHuset  ------> hus\nrummer  ------> rum\net  ------> et\ndejligt  ------> dej\nkøkken,  ------> køkken,\nsom  ------> som\nligger  ------> lig\nopad  ------> opad\nstue  ------> stue\nog  ------> og\nudestue  ------> udestu\n-  ------> -\nmed  ------> med\nandre  ------> andr\nord  ------> ord\nkan  ------> kan\ndu  ------> du\nlet  ------> let\nog  ------> og\nhurtigt  ------> hurt\ngøre  ------> gør\ndrømmen  ------> drøm\nom  ------> om\net  ------> et\nkøkkenalrum  ------> køkkenalrum\ntil  ------> til\nvirkelighed.  ------> virkelighed.\nEndvidere  ------> endvid\nfindes  ------> find\net  ------> et\ndejligt  ------> dej\nrummeligt  ------> rum\nbryggers,  ------> bryggers,\nder  ------> der\ni  ------> i\ndagligdagen  ------> dagligdag\nfungerer  ------> fung\nsom  ------> som\npraktisk  ------> praktisk\nindgang.  ------> indgang.\nHusets  ------> hus\nto  ------> to\nstore  ------> stor\nværelser  ------> vær\nligger  ------> lig\ni  ------> i\nforlængelse  ------> forlæng\naf  ------> af\nden  ------> den\nnuværende  ------> nuvær\nspisestue.  ------> spisestue.\nDet  ------> det\nene  ------> ene\nværelse  ------> vær\nhar  ------> har\noprindeligt  ------> oprind\nværet  ------> vær\nto,  ------> to,\nmen  ------> men\nfor  ------> for\nat  ------> at\nfå  ------> få\nstore  ------> stor\nog  ------> og\nåbne  ------> åbn\nrum,  ------> rum,\ner  ------> er\nder  ------> der\nsidenhen  ------> sidenh\nprioriteret  ------> priorit\nto  ------> to\nstore  ------> stor\nværelser  ------> vær\ni  ------> i\nstedet.  ------> stedet.\nDette  ------> det\nkan  ------> kan\nlet  ------> let\nreetableres,  ------> reetableres,\nså  ------> så\nhuset  ------> hus\nvil  ------> vil\nrumme  ------> rum\nto  ------> to\nbørneværelser  ------> børnevær\nog  ------> og\nét  ------> ét\nforældresoveværelse.  ------> forældresoveværelse.\nOg  ------> og\nnetop  ------> netop\nsidstnævnte  ------> sidstnævnt\nhar  ------> har\neget  ------> eget\nbadeværelse,  ------> badeværelse,\nmens  ------> men\nder  ------> der\nfra  ------> fra\nspisestuen  ------> spisestu\nkan  ------> kan\ntilgås  ------> tilgå\ngæstetoilet.  ------> gæstetoilet.\nHuset  ------> hus\nligger  ------> lig\nhelt  ------> helt\nideelt  ------> ideelt\npå  ------> på\ngrunden  ------> grund\nog  ------> og\ngør,  ------> gør,\nat  ------> at\nhave  ------> hav\nog  ------> og\nudemiljøe  ------> udemiljø\nkan  ------> kan\nprioriteres  ------> priorit\nefter  ------> eft\nønske.  ------> ønske.\nBaghaven  ------> baghav\ner  ------> er\nuforstyrret  ------> uforstyr\nog  ------> og\nmed  ------> med\ntræbevoksning  ------> træbevoksning\ni  ------> i\nbunden,  ------> bunden,\nsom  ------> som\ngiver  ------> giv\nhygge  ------> hyg\nog  ------> og\nidyl,  ------> idyl,\npå  ------> på\nen  ------> en\nellers  ------> ell\ncentral  ------> central\nog  ------> og\nbynær  ------> bynær\nbeliggenhed.  ------> beliggenhed.\nDer  ------> der\nfindes  ------> find\ncarport  ------> carport\nog  ------> og\nværksted  ------> værksted\ntil  ------> til\ngrunden,  ------> grunden,\nsom  ------> som\nstår  ------> står\ni  ------> i\npæn  ------> pæn\nstand.  ------> stand.\nSærligt  ------> sær\nén  ------> én\nting  ------> ting\ngiver  ------> giv\nbeliggenheden  ------> beliggen\npå  ------> på\nStellavej  ------> stellavej\n3  ------> 3\nkarakter.  ------> karakter.\nFra  ------> fra\nadressen  ------> adres\nregnes  ------> regn\nde  ------> de\nfleste  ------> flest\nafstande  ------> afstand\nnemlig  ------> nem\nikke  ------> ikk\ni  ------> i\nkilometer,  ------> kilometer,\nmen  ------> men\ni  ------> i\nmeter.  ------> meter.\nVed  ------> ved\nblot  ------> blot\n5-10  ------> 5-10\nminutters  ------> minut\ngang  ------> gang\nfindes  ------> find\nindkøbsmuligheder,  ------> indkøbsmuligheder,\noffentlig  ------> offent\ntransport,  ------> transport,\nskole,  ------> skole,\ndaginstitution,  ------> daginstitution,\nPaarup-hallens  ------> paarup-hal\nidrætsfaciliteter  ------> idrætsfacilitet\nog  ------> og\nikke  ------> ikk\nmindst  ------> mindst\nnaturomgivelser,  ------> naturomgivelser,\nder  ------> der\ngiver  ------> giv\nen  ------> en\nfantastisk  ------> fantastisk\ngåtur.  ------> gåtur.\nTil  ------> til\nOdense  ------> odens\nbymidte  ------> bymid\ner  ------> er\nder  ------> der\nligeledes  ------> ligeled\nikke  ------> ikk\nlangt,  ------> langt,\nmen  ------> men\nbehovet  ------> behov\nfor  ------> for\ngågaden  ------> gågad\nog  ------> og\nRosengårdscentret  ------> rosengårdscentr\ner  ------> er\nminimal,  ------> minimal,\nmed  ------> med\ndet  ------> det\nstore  ------> stor\nudvalg  ------> udvalg\nder  ------> der\nfindes  ------> find\ni  ------> i\nTarup  ------> tarup\nCentrets  ------> centr\nmange  ------> mang\nbutikker  ------> butik\nog  ------> og\nmuligheder.  ------> muligheder.\nEDC  ------> edc\nTarup  ------> tarup\n-  ------> -\nvi  ------> vi\nglæder  ------> glæd\nos  ------> os\ntil  ------> til\nat  ------> at\nfremvise  ------> fremvis\ndenne  ------> den\nmulighedsrige  ------> mulighedsr\nétplansvilla.  ------> étplansvilla.\nVelkommen  ------> velkom\ntil!,https://www.edc.dk/alle-boliger/odense-nv/5210/stellavej-3/?sagsnr=52102348  ------> til!,https://www.edc.dk/alle-boliger/odense-nv/5210/stellavej-3/?sagsnr=52102348\n"
     ]
    }
   ],
   "source": [
    "import pandas as pd\n",
    "header_names=['text']\n",
    "npr = pd.read_csv('descriptions.csv', header=None, skiprows=1, names=header_names, sep='\\n')\n",
    "words = npr['text'][0].split(' ')\n",
    "#import spacy\n",
    "#nlp = spacy.load('da_core_news_sm')\n",
    "#stopord = nlp.Defaults.stop_words\n",
    "#print(len(stopord)) # 221 stop_words\n",
    "\n",
    "from nltk.stem.snowball import SnowballStemmer\n",
    "s_stemmer = SnowballStemmer(language='danish')\n",
    "for word in words:\n",
    "    print(word + '  ------> ' + s_stemmer.stem(word))"
   ]
  },
  {
   "cell_type": "code",
   "execution_count": 4,
   "metadata": {},
   "outputs": [
    {
     "output_type": "stream",
     "name": "stdout",
     "text": [
      "I  ------> i\ndet  ------> det\npopulære  ------> populær\nPaarup  ------> paarup\nudbydes  ------> udbyd\nher  ------> her\nen  ------> en\ndejlig  ------> dej\nvilla  ------> villa\ni  ------> i\nét  ------> ét\nplan,  ------> plan,\nhvor  ------> hvor\nhusets  ------> hus\nmuligheder  ------> mul\ningen  ------> ing\nbegrænsninger  ------> begrænsning\nhar.  ------> har.\nHuset  ------> hus\ner  ------> er\nvelholdt,  ------> velholdt,\nlyst  ------> lyst\nog  ------> og\nimødekommende  ------> imødekom\nog  ------> og\ngiver  ------> giv\net  ------> et\ngodt  ------> godt\nhelhedsindtryk  ------> helhedsindtryk\nfra  ------> fra\nstart  ------> start\ntil  ------> til\nslut.  ------> slut.\nDen  ------> den\nnuværende  ------> nuvær\nplanløsning  ------> planløsning\ner  ------> er\nideel  ------> ideel\ntil  ------> til\nparret  ------> par\neller  ------> ell\nden  ------> den\nlille  ------> lil\nfamilie,  ------> familie,\nder  ------> der\nvil  ------> vil\nhave  ------> hav\nhus  ------> hus\nog  ------> og\nhave  ------> hav\nog  ------> og\nen  ------> en\nhelt  ------> helt\nekseptionelt  ------> ekseptionelt\ngod  ------> god\nbeliggenhed.  ------> beliggenhed.\nEjendommen  ------> ejendom\nude  ------> ude\nsom  ------> som\ninde  ------> ind\ner  ------> er\nvelholdt  ------> velhold\nog  ------> og\nlige  ------> lig\ntil  ------> til\nat  ------> at\ngå  ------> gå\ntil.  ------> til.\nHuset  ------> hus\nrummer  ------> rum\net  ------> et\ndejligt  ------> dej\nkøkken,  ------> køkken,\nsom  ------> som\nligger  ------> lig\nopad  ------> opad\nstue  ------> stue\nog  ------> og\nudestue  ------> udestu\n-  ------> -\nmed  ------> med\nandre  ------> andr\nord  ------> ord\nkan  ------> kan\ndu  ------> du\nlet  ------> let\nog  ------> og\nhurtigt  ------> hurt\ngøre  ------> gør\ndrømmen  ------> drøm\nom  ------> om\net  ------> et\nkøkkenalrum  ------> køkkenalrum\ntil  ------> til\nvirkelighed.  ------> virkelighed.\nEndvidere  ------> endvid\nfindes  ------> find\net  ------> et\ndejligt  ------> dej\nrummeligt  ------> rum\nbryggers,  ------> bryggers,\nder  ------> der\ni  ------> i\ndagligdagen  ------> dagligdag\nfungerer  ------> fung\nsom  ------> som\npraktisk  ------> praktisk\nindgang.  ------> indgang.\nHusets  ------> hus\nto  ------> to\nstore  ------> stor\nværelser  ------> vær\nligger  ------> lig\ni  ------> i\nforlængelse  ------> forlæng\naf  ------> af\nden  ------> den\nnuværende  ------> nuvær\nspisestue.  ------> spisestue.\nDet  ------> det\nene  ------> ene\nværelse  ------> vær\nhar  ------> har\noprindeligt  ------> oprind\nværet  ------> vær\nto,  ------> to,\nmen  ------> men\nfor  ------> for\nat  ------> at\nfå  ------> få\nstore  ------> stor\nog  ------> og\nåbne  ------> åbn\nrum,  ------> rum,\ner  ------> er\nder  ------> der\nsidenhen  ------> sidenh\nprioriteret  ------> priorit\nto  ------> to\nstore  ------> stor\nværelser  ------> vær\ni  ------> i\nstedet.  ------> stedet.\nDette  ------> det\nkan  ------> kan\nlet  ------> let\nreetableres,  ------> reetableres,\nså  ------> så\nhuset  ------> hus\nvil  ------> vil\nrumme  ------> rum\nto  ------> to\nbørneværelser  ------> børnevær\nog  ------> og\nét  ------> ét\nforældresoveværelse.  ------> forældresoveværelse.\nOg  ------> og\nnetop  ------> netop\nsidstnævnte  ------> sidstnævnt\nhar  ------> har\neget  ------> eget\nbadeværelse,  ------> badeværelse,\nmens  ------> men\nder  ------> der\nfra  ------> fra\nspisestuen  ------> spisestu\nkan  ------> kan\ntilgås  ------> tilgå\ngæstetoilet.  ------> gæstetoilet.\nHuset  ------> hus\nligger  ------> lig\nhelt  ------> helt\nideelt  ------> ideelt\npå  ------> på\ngrunden  ------> grund\nog  ------> og\ngør,  ------> gør,\nat  ------> at\nhave  ------> hav\nog  ------> og\nudemiljøe  ------> udemiljø\nkan  ------> kan\nprioriteres  ------> priorit\nefter  ------> eft\nønske.  ------> ønske.\nBaghaven  ------> baghav\ner  ------> er\nuforstyrret  ------> uforstyr\nog  ------> og\nmed  ------> med\ntræbevoksning  ------> træbevoksning\ni  ------> i\nbunden,  ------> bunden,\nsom  ------> som\ngiver  ------> giv\nhygge  ------> hyg\nog  ------> og\nidyl,  ------> idyl,\npå  ------> på\nen  ------> en\nellers  ------> ell\ncentral  ------> central\nog  ------> og\nbynær  ------> bynær\nbeliggenhed.  ------> beliggenhed.\nDer  ------> der\nfindes  ------> find\ncarport  ------> carport\nog  ------> og\nværksted  ------> værksted\ntil  ------> til\ngrunden,  ------> grunden,\nsom  ------> som\nstår  ------> står\ni  ------> i\npæn  ------> pæn\nstand.  ------> stand.\nSærligt  ------> sær\nén  ------> én\nting  ------> ting\ngiver  ------> giv\nbeliggenheden  ------> beliggen\npå  ------> på\nStellavej  ------> stellavej\n3  ------> 3\nkarakter.  ------> karakter.\nFra  ------> fra\nadressen  ------> adres\nregnes  ------> regn\nde  ------> de\nfleste  ------> flest\nafstande  ------> afstand\nnemlig  ------> nem\nikke  ------> ikk\ni  ------> i\nkilometer,  ------> kilometer,\nmen  ------> men\ni  ------> i\nmeter.  ------> meter.\nVed  ------> ved\nblot  ------> blot\n5-10  ------> 5-10\nminutters  ------> minut\ngang  ------> gang\nfindes  ------> find\nindkøbsmuligheder,  ------> indkøbsmuligheder,\noffentlig  ------> offent\ntransport,  ------> transport,\nskole,  ------> skole,\ndaginstitution,  ------> daginstitution,\nPaarup-hallens  ------> paarup-hal\nidrætsfaciliteter  ------> idrætsfacilitet\nog  ------> og\nikke  ------> ikk\nmindst  ------> mindst\nnaturomgivelser,  ------> naturomgivelser,\nder  ------> der\ngiver  ------> giv\nen  ------> en\nfantastisk  ------> fantastisk\ngåtur.  ------> gåtur.\nTil  ------> til\nOdense  ------> odens\nbymidte  ------> bymid\ner  ------> er\nder  ------> der\nligeledes  ------> ligeled\nikke  ------> ikk\nlangt,  ------> langt,\nmen  ------> men\nbehovet  ------> behov\nfor  ------> for\ngågaden  ------> gågad\nog  ------> og\nRosengårdscentret  ------> rosengårdscentr\ner  ------> er\nminimal,  ------> minimal,\nmed  ------> med\ndet  ------> det\nstore  ------> stor\nudvalg  ------> udvalg\nder  ------> der\nfindes  ------> find\ni  ------> i\nTarup  ------> tarup\nCentrets  ------> centr\nmange  ------> mang\nbutikker  ------> butik\nog  ------> og\nmuligheder.  ------> muligheder.\nEDC  ------> edc\nTarup  ------> tarup\n-  ------> -\nvi  ------> vi\nglæder  ------> glæd\nos  ------> os\ntil  ------> til\nat  ------> at\nfremvise  ------> fremvis\ndenne  ------> den\nmulighedsrige  ------> mulighedsr\nétplansvilla.  ------> étplansvilla.\nVelkommen  ------> velkom\ntil!,https://www.edc.dk/alle-boliger/odense-nv/5210/stellavej-3/?sagsnr=52102348  ------> til!,https://www.edc.dk/alle-boliger/odense-nv/5210/stellavej-3/?sagsnr=52102348\n"
     ]
    }
   ],
   "source": [
    "# reducerer ord til roden\n",
    "for word in words:\n",
    "    print(word + '  ------> ' + s_stemmer.stem(word))"
   ]
  },
  {
   "cell_type": "code",
   "execution_count": null,
   "metadata": {},
   "outputs": [],
   "source": []
  }
 ]
}