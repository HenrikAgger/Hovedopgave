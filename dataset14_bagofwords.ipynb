{
 "metadata": {
  "language_info": {
   "codemirror_mode": {
    "name": "ipython",
    "version": 3
   },
   "file_extension": ".py",
   "mimetype": "text/x-python",
   "name": "python",
   "nbconvert_exporter": "python",
   "pygments_lexer": "ipython3",
   "version": "3.8.5-final"
  },
  "orig_nbformat": 2,
  "kernelspec": {
   "name": "python3",
   "display_name": "Python 3",
   "language": "python"
  }
 },
 "nbformat": 4,
 "nbformat_minor": 2,
 "cells": [
  {
   "cell_type": "code",
   "execution_count": 1,
   "metadata": {},
   "outputs": [
    {
     "output_type": "stream",
     "name": "stdout",
     "text": [
      "['an', 'bag', 'example', 'is', 'of', 'this', 'words']\n[[1 1 1 1 2 1 1]]\n"
     ]
    }
   ],
   "source": [
    "from sklearn.feature_extraction.text import CountVectorizer\n",
    "\n",
    "string = [\"This is an example of bag of words!\"]\n",
    "vectorizer = CountVectorizer()\n",
    "X=vectorizer.fit_transform(string)\n",
    "print(vectorizer.get_feature_names())\n",
    "print(X.toarray())\n",
    "\n",
    "\n",
    "\n"
   ]
  },
  {
   "cell_type": "code",
   "execution_count": 2,
   "metadata": {},
   "outputs": [
    {
     "output_type": "stream",
     "name": "stdout",
     "text": [
      "I det populære Paarup udbydes her en dejlig villa i ét plan, hvor husets muligheder ingen begrænsninger har. Huset er velholdt, lyst og imødekommende og giver et godt helhedsindtryk fra start til slut. Den nuværende planløsning er ideel til parret eller den lille familie, der vil have hus og have og en helt ekseptionelt god beliggenhed. Ejendommen ude som inde er velholdt og lige til at gå til. Huset rummer et dejligt køkken, som ligger opad stue og udestue - med andre ord kan du let og hurtigt gøre drømmen om et køkkenalrum til virkelighed. Endvidere findes et dejligt rummeligt bryggers, der i dagligdagen fungerer som praktisk indgang. Husets to store værelser ligger i forlængelse af den nuværende spisestue. Det ene værelse har oprindeligt været to, men for at få store og åbne rum, er der sidenhen prioriteret to store værelser i stedet. Dette kan let reetableres, så huset vil rumme to børneværelser og ét forældresoveværelse. Og netop sidstnævnte har eget badeværelse, mens der fra spisestuen kan tilgås gæstetoilet. Huset ligger helt ideelt på grunden og gør, at have og udemiljøe kan prioriteres efter ønske. Baghaven er uforstyrret og med træbevoksning i bunden, som giver hygge og idyl, på en ellers central og bynær beliggenhed. Der findes carport og værksted til grunden, som står i pæn stand. Særligt én ting giver beliggenheden på Stellavej 3 karakter. Fra adressen regnes de fleste afstande nemlig ikke i kilometer, men i meter. Ved blot 5-10 minutters gang findes indkøbsmuligheder, offentlig transport, skole, daginstitution, Paarup-hallens idrætsfaciliteter og ikke mindst naturomgivelser, der giver en fantastisk gåtur. Til Odense bymidte er der ligeledes ikke langt, men behovet for gågaden og Rosengårdscentret er minimal, med det store udvalg der findes i Tarup Centrets mange butikker og muligheder. EDC Tarup - vi glæder os til at fremvise denne mulighedsrige étplansvilla. Velkommen til!,https://www.edc.dk/alle-boliger/odense-nv/5210/stellavej-3/?sagsnr=52102348\n"
     ]
    },
    {
     "output_type": "error",
     "ename": "ValueError",
     "evalue": "Iterable over raw text documents expected, string object received.",
     "traceback": [
      "\u001b[1;31m---------------------------------------------------------------------------\u001b[0m",
      "\u001b[1;31mValueError\u001b[0m                                Traceback (most recent call last)",
      "\u001b[1;32m<ipython-input-2-98fdc0adc44c>\u001b[0m in \u001b[0;36m<module>\u001b[1;34m\u001b[0m\n\u001b[0;32m      9\u001b[0m \u001b[1;33m\u001b[0m\u001b[0m\n\u001b[0;32m     10\u001b[0m \u001b[0mvectorizer\u001b[0m \u001b[1;33m=\u001b[0m \u001b[0mCountVectorizer\u001b[0m\u001b[1;33m(\u001b[0m\u001b[1;33m)\u001b[0m\u001b[1;33m\u001b[0m\u001b[1;33m\u001b[0m\u001b[0m\n\u001b[1;32m---> 11\u001b[1;33m \u001b[0mX\u001b[0m\u001b[1;33m=\u001b[0m\u001b[0mvectorizer\u001b[0m\u001b[1;33m.\u001b[0m\u001b[0mfit_transform\u001b[0m\u001b[1;33m(\u001b[0m\u001b[0mstr\u001b[0m\u001b[1;33m(\u001b[0m\u001b[0mdf1\u001b[0m\u001b[1;33m[\u001b[0m\u001b[1;36m0\u001b[0m\u001b[1;33m]\u001b[0m\u001b[1;33m)\u001b[0m\u001b[1;33m)\u001b[0m \u001b[1;31m# VIRKER IKKE\u001b[0m\u001b[1;33m\u001b[0m\u001b[1;33m\u001b[0m\u001b[0m\n\u001b[0m\u001b[0;32m     12\u001b[0m \u001b[0mprint\u001b[0m\u001b[1;33m(\u001b[0m\u001b[0mvectorizer\u001b[0m\u001b[1;33m.\u001b[0m\u001b[0mget_feature_names\u001b[0m\u001b[1;33m(\u001b[0m\u001b[1;33m)\u001b[0m\u001b[1;33m)\u001b[0m\u001b[1;33m\u001b[0m\u001b[1;33m\u001b[0m\u001b[0m\n\u001b[0;32m     13\u001b[0m \u001b[0mprint\u001b[0m\u001b[1;33m(\u001b[0m\u001b[0mX\u001b[0m\u001b[1;33m.\u001b[0m\u001b[0mtoarray\u001b[0m\u001b[1;33m(\u001b[0m\u001b[1;33m)\u001b[0m\u001b[1;33m)\u001b[0m\u001b[1;33m\u001b[0m\u001b[1;33m\u001b[0m\u001b[0m\n",
      "\u001b[1;32m~\\anaconda3\\lib\\site-packages\\sklearn\\feature_extraction\\text.py\u001b[0m in \u001b[0;36mfit_transform\u001b[1;34m(self, raw_documents, y)\u001b[0m\n\u001b[0;32m   1186\u001b[0m         \u001b[1;31m# TfidfVectorizer.\u001b[0m\u001b[1;33m\u001b[0m\u001b[1;33m\u001b[0m\u001b[1;33m\u001b[0m\u001b[0m\n\u001b[0;32m   1187\u001b[0m         \u001b[1;32mif\u001b[0m \u001b[0misinstance\u001b[0m\u001b[1;33m(\u001b[0m\u001b[0mraw_documents\u001b[0m\u001b[1;33m,\u001b[0m \u001b[0mstr\u001b[0m\u001b[1;33m)\u001b[0m\u001b[1;33m:\u001b[0m\u001b[1;33m\u001b[0m\u001b[1;33m\u001b[0m\u001b[0m\n\u001b[1;32m-> 1188\u001b[1;33m             raise ValueError(\n\u001b[0m\u001b[0;32m   1189\u001b[0m                 \u001b[1;34m\"Iterable over raw text documents expected, \"\u001b[0m\u001b[1;33m\u001b[0m\u001b[1;33m\u001b[0m\u001b[0m\n\u001b[0;32m   1190\u001b[0m                 \"string object received.\")\n",
      "\u001b[1;31mValueError\u001b[0m: Iterable over raw text documents expected, string object received."
     ]
    }
   ],
   "source": [
    "from sklearn.feature_extraction.text import CountVectorizer\n",
    "import pandas as pd\n",
    "\n",
    "header_names=['text']\n",
    "df = pd.read_csv('descriptions.csv', header=None, skiprows=1, names=header_names, sep='\\n')\n",
    "\n",
    "df1 = df['text']\n",
    "print(str(df1[0])) # virker\n",
    "\n",
    "vectorizer = CountVectorizer()\n",
    "X=vectorizer.fit_transform(str(df1[0])) # VIRKER IKKE\n",
    "print(vectorizer.get_feature_names())\n",
    "print(X.toarray())\n",
    "\n"
   ]
  },
  {
   "cell_type": "code",
   "execution_count": null,
   "metadata": {},
   "outputs": [],
   "source": []
  }
 ]
}