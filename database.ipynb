{
 "metadata": {
  "language_info": {
   "codemirror_mode": {
    "name": "ipython",
    "version": 3
   },
   "file_extension": ".py",
   "mimetype": "text/x-python",
   "name": "python",
   "nbconvert_exporter": "python",
   "pygments_lexer": "ipython3",
   "version": "3.7.9-final"
  },
  "orig_nbformat": 2,
  "kernelspec": {
   "name": "python3",
   "display_name": "Python 3.7.9 64-bit",
   "metadata": {
    "interpreter": {
     "hash": "89f296222c8130915f1e43629237569ba6e5fdb0b27294fe6f64832e34b39e99"
    }
   }
  }
 },
 "nbformat": 4,
 "nbformat_minor": 2,
 "cells": [
  {
   "cell_type": "code",
   "execution_count": 6,
   "metadata": {},
   "outputs": [
    {
     "output_type": "stream",
     "name": "stdout",
     "text": [
      "                                                      0\n0                                   propertydescription\n1     I det populære Paarup udbydes her en dejlig vi...\n2     Går du med en drøm om at lave din helt egen bo...\n3     Ejendommen befinder sig i naturskønne Sdr. Vis...\n4     Meget rummelig etplansvilla med god beliggenhe...\n...                                                 ...\n2496  CHARMERENDE RØDSTENSVILLA TIL DEN LILLE FAMILI...\n2497  Rigtigt pænt og velholdt parcelhus beliggende ...\n2498  Lige i hjertet af Valby finder du denne virkel...\n2499  På Kragekærvej 5  lige der hvor vejen slår en ...\n2500  Moderne velbygget og funktionel familievilla i...\n\n[2501 rows x 1 columns]\n"
     ]
    },
    {
     "output_type": "execute_result",
     "data": {
      "text/plain": [
       "                                                      0  True\n",
       "0                                   propertydescription  None\n",
       "1     I det populære Paarup udbydes her en dejlig vi...  None\n",
       "2     Går du med en drøm om at lave din helt egen bo...  None\n",
       "3     Ejendommen befinder sig i naturskønne Sdr. Vis...  None\n",
       "4     Meget rummelig etplansvilla med god beliggenhe...  None\n",
       "...                                                 ...   ...\n",
       "2496  CHARMERENDE RØDSTENSVILLA TIL DEN LILLE FAMILI...  None\n",
       "2497  Rigtigt pænt og velholdt parcelhus beliggende ...  None\n",
       "2498  Lige i hjertet af Valby finder du denne virkel...  None\n",
       "2499  På Kragekærvej 5  lige der hvor vejen slår en ...  None\n",
       "2500  Moderne velbygget og funktionel familievilla i...  None\n",
       "\n",
       "[2501 rows x 2 columns]"
      ],
      "text/html": "<div>\n<style scoped>\n    .dataframe tbody tr th:only-of-type {\n        vertical-align: middle;\n    }\n\n    .dataframe tbody tr th {\n        vertical-align: top;\n    }\n\n    .dataframe thead th {\n        text-align: right;\n    }\n</style>\n<table border=\"1\" class=\"dataframe\">\n  <thead>\n    <tr style=\"text-align: right;\">\n      <th></th>\n      <th>0</th>\n      <th>True</th>\n    </tr>\n  </thead>\n  <tbody>\n    <tr>\n      <th>0</th>\n      <td>propertydescription</td>\n      <td>None</td>\n    </tr>\n    <tr>\n      <th>1</th>\n      <td>I det populære Paarup udbydes her en dejlig vi...</td>\n      <td>None</td>\n    </tr>\n    <tr>\n      <th>2</th>\n      <td>Går du med en drøm om at lave din helt egen bo...</td>\n      <td>None</td>\n    </tr>\n    <tr>\n      <th>3</th>\n      <td>Ejendommen befinder sig i naturskønne Sdr. Vis...</td>\n      <td>None</td>\n    </tr>\n    <tr>\n      <th>4</th>\n      <td>Meget rummelig etplansvilla med god beliggenhe...</td>\n      <td>None</td>\n    </tr>\n    <tr>\n      <th>...</th>\n      <td>...</td>\n      <td>...</td>\n    </tr>\n    <tr>\n      <th>2496</th>\n      <td>CHARMERENDE RØDSTENSVILLA TIL DEN LILLE FAMILI...</td>\n      <td>None</td>\n    </tr>\n    <tr>\n      <th>2497</th>\n      <td>Rigtigt pænt og velholdt parcelhus beliggende ...</td>\n      <td>None</td>\n    </tr>\n    <tr>\n      <th>2498</th>\n      <td>Lige i hjertet af Valby finder du denne virkel...</td>\n      <td>None</td>\n    </tr>\n    <tr>\n      <th>2499</th>\n      <td>På Kragekærvej 5  lige der hvor vejen slår en ...</td>\n      <td>None</td>\n    </tr>\n    <tr>\n      <th>2500</th>\n      <td>Moderne velbygget og funktionel familievilla i...</td>\n      <td>None</td>\n    </tr>\n  </tbody>\n</table>\n<p>2501 rows × 2 columns</p>\n</div>"
     },
     "metadata": {},
     "execution_count": 6
    }
   ],
   "source": [
    "import pandas as pd\n",
    "\n",
    "df = pd.read_csv('descriptions.csv', header=None, sep='\\n')\n",
    "\n",
    "print(df)\n",
    "\n",
    "df['True'] = None\n",
    "df\n",
    "\n",
    "\n",
    "#pd.read_csv(\"descriptions.csv\", header=0, na_values=[\"N/A\", \".\"])\n",
    "#print(df)"
   ]
  },
  {
   "cell_type": "code",
   "execution_count": null,
   "metadata": {},
   "outputs": [],
   "source": [
    "import pandas as pd\n",
    "data_xls = pd.read_excel('.xlsx', index_col=None)\n",
    "data_xls.to_csv('csvfile.csv', encoding='utf-8')\n",
    "\n",
    "\n"
   ]
  }
 ]
}