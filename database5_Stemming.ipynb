{
 "metadata": {
  "language_info": {
   "codemirror_mode": {
    "name": "ipython",
    "version": 3
   },
   "file_extension": ".py",
   "mimetype": "text/x-python",
   "name": "python",
   "nbconvert_exporter": "python",
   "pygments_lexer": "ipython3",
   "version": "3.8.5-final"
  },
  "orig_nbformat": 2,
  "kernelspec": {
   "name": "python3",
   "display_name": "Python 3"
  }
 },
 "nbformat": 4,
 "nbformat_minor": 2,
 "cells": [
  {
   "cell_type": "code",
   "execution_count": 4,
   "metadata": {},
   "outputs": [
    {
     "output_type": "stream",
     "name": "stdout",
     "text": [
      "løb----->løb\nløber----->løber\nløb----->løb\nløbende----->løbend\nlet----->let\nfairly----->fairli\n"
     ]
    }
   ],
   "source": [
    "import nltk\n",
    "from nltk.stem.porter import PorterStemmer\n",
    "p_stemmer = PorterStemmer()\n",
    "words = ['løb', 'løber', 'løb', 'løbende', 'let', 'fairly']\n",
    "\n",
    "for word in words:\n",
    "    print(word + '----->' + p_stemmer.stem(word))"
   ]
  },
  {
   "cell_type": "code",
   "execution_count": 5,
   "metadata": {},
   "outputs": [
    {
     "output_type": "stream",
     "name": "stdout",
     "text": [
      "løb  ------> løb\nløber  ------> løb\nløb  ------> løb\nløbende  ------> løb\nlet  ------> let\nfairly  ------> fairly\n"
     ]
    }
   ],
   "source": [
    "from nltk.stem.snowball import SnowballStemmer\n",
    "s_stemmer = SnowballStemmer(language='danish')\n",
    "for word in words:\n",
    "    print(word + '  ------> ' + s_stemmer.stem(word))\n",
    "    "
   ]
  },
  {
   "cell_type": "code",
   "execution_count": 6,
   "metadata": {},
   "outputs": [
    {
     "output_type": "stream",
     "name": "stdout",
     "text": [
      "genreøs  ------> genreøs\ngeneration  ------> generation\ngenerøst  ------> generøst\ngenererer  ------> gener\n"
     ]
    }
   ],
   "source": [
    "# reducerer ord til roden\n",
    "words = ['genreøs', 'generation', 'generøst', 'genererer']\n",
    "for word in words:\n",
    "    print(word + '  ------> ' + s_stemmer.stem(word)) "
   ]
  },
  {
   "cell_type": "code",
   "execution_count": null,
   "metadata": {},
   "outputs": [],
   "source": []
  }
 ]
}