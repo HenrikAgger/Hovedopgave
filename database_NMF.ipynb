{
 "metadata": {
  "language_info": {
   "codemirror_mode": {
    "name": "ipython",
    "version": 3
   },
   "file_extension": ".py",
   "mimetype": "text/x-python",
   "name": "python",
   "nbconvert_exporter": "python",
   "pygments_lexer": "ipython3",
   "version": "3.8.5-final"
  },
  "orig_nbformat": 2,
  "kernelspec": {
   "name": "python3",
   "display_name": "Python 3"
  }
 },
 "nbformat": 4,
 "nbformat_minor": 2,
 "cells": [
  {
   "cell_type": "code",
   "execution_count": 1,
   "metadata": {},
   "outputs": [
    {
     "output_type": "execute_result",
     "data": {
      "text/plain": [
       "'I det populære Paarup udbydes her en dejlig villa i ét plan, hvor husets muligheder ingen begrænsninger har. Huset er velholdt, lyst og imødekommende og giver et godt helhedsindtryk fra start til slut. Den nuværende planløsning er ideel til parret eller den lille familie, der vil have hus og have og en helt ekseptionelt god beliggenhed. Ejendommen ude som inde er velholdt og lige til at gå til. Huset rummer et dejligt køkken, som ligger opad stue og udestue - med andre ord kan du let og hurtigt gøre drømmen om et køkkenalrum til virkelighed. Endvidere findes et dejligt rummeligt bryggers, der i dagligdagen fungerer som praktisk indgang. Husets to store værelser ligger i forlængelse af den nuværende spisestue. Det ene værelse har oprindeligt været to, men for at få store og åbne rum, er der sidenhen prioriteret to store værelser i stedet. Dette kan let reetableres, så huset vil rumme to børneværelser og ét forældresoveværelse. Og netop sidstnævnte har eget badeværelse, mens der fra spisestuen kan tilgås gæstetoilet. Huset ligger helt ideelt på grunden og gør, at have og udemiljøe kan prioriteres efter ønske. Baghaven er uforstyrret og med træbevoksning i bunden, som giver hygge og idyl, på en ellers central og bynær beliggenhed. Der findes carport og værksted til grunden, som står i pæn stand. Særligt én ting giver beliggenheden på Stellavej 3 karakter. Fra adressen regnes de fleste afstande nemlig ikke i kilometer, men i meter. Ved blot 5-10 minutters gang findes indkøbsmuligheder, offentlig transport, skole, daginstitution, Paarup-hallens idrætsfaciliteter og ikke mindst naturomgivelser, der giver en fantastisk gåtur. Til Odense bymidte er der ligeledes ikke langt, men behovet for gågaden og Rosengårdscentret er minimal, med det store udvalg der findes i Tarup Centrets mange butikker og muligheder. EDC Tarup - vi glæder os til at fremvise denne mulighedsrige étplansvilla. Velkommen til!,https://www.edc.dk/alle-boliger/odense-nv/5210/stellavej-3/?sagsnr=52102348'"
      ]
     },
     "metadata": {},
     "execution_count": 1
    }
   ],
   "source": [
    "import pandas as pd\n",
    "header_names=['text']\n",
    "npr = pd.read_csv('descriptions.csv', header=None, skiprows=1, names=header_names, sep='\\n')#\n",
    "npr['text'][0]"
   ]
  },
  {
   "cell_type": "code",
   "execution_count": 8,
   "metadata": {},
   "outputs": [
    {
     "output_type": "execute_result",
     "data": {
      "text/plain": [
       "<2500x14820 sparse matrix of type '<class 'numpy.float64'>'\n",
       "\twith 365338 stored elements in Compressed Sparse Row format>"
      ]
     },
     "metadata": {},
     "execution_count": 8
    }
   ],
   "source": [
    "from sklearn.feature_extraction.text import TfidfVectorizer\n",
    "tfidf = TfidfVectorizer(max_df=0.95,min_df=2,stop_words='english')\n",
    "dtm = tfidf.fit_transform(npr['text'])\n",
    "dtm"
   ]
  },
  {
   "cell_type": "code",
   "execution_count": 4,
   "metadata": {},
   "outputs": [
    {
     "output_type": "execute_result",
     "data": {
      "text/plain": [
       "NMF(n_components=7, random_state=42)"
      ]
     },
     "metadata": {},
     "execution_count": 4
    }
   ],
   "source": [
    "from sklearn.decomposition import NMF\n",
    "nmf_model = NMF(n_components=7,random_state=42)\n",
    "nmf_model.fit(dtm)"
   ]
  },
  {
   "cell_type": "code",
   "execution_count": 5,
   "metadata": {},
   "outputs": [
    {
     "output_type": "execute_result",
     "data": {
      "text/plain": [
       "'540w5597'"
      ]
     },
     "metadata": {},
     "execution_count": 5
    }
   ],
   "source": [
    "tfidf.get_feature_names()[1000]"
   ]
  },
  {
   "cell_type": "code",
   "execution_count": 12,
   "metadata": {},
   "outputs": [
    {
     "output_type": "stream",
     "name": "stdout",
     "text": [
      "THE TOP 15 WORDS FOR TOPIC # 0\n",
      "['også', 'så', 'sig', 'hvor', 'får', 'jer', 'som', 'kan', 'på', 'den', 'af', 'det', 'der', 'et', 'en']\n",
      "\n",
      "\n",
      "THE TOP 15 WORDS FOR TOPIC # 1\n",
      "['fra', 'terrasse', 'adgang', 'badeværelse', 'et', 'villaen', 'stort', 'god', 'udgang', 'på', 'stor', 'huset', 'en', 'samt', 'der']\n",
      "\n",
      "\n",
      "THE TOP 15 WORDS FOR TOPIC # 2\n",
      "['mail', 'gratis', 'der', 'når', 'så', 'skal', 'et', 'kan', 'edc', 'på', 'har', 'dig', 'flytteforsikring', 'en', 'du']\n",
      "\n",
      "\n",
      "THE TOP 15 WORDS FOR TOPIC # 3\n",
      "['en', 'samtidig', 'mellem', 'hvilket', 'gør', '10', 'bekvem', 'opføre', 'et', 'byggegrunde', 'hedehusene', 'dobbelthuse', 'på', 'jer', 'reerslev']\n",
      "\n",
      "\n",
      "THE TOP 15 WORDS FOR TOPIC # 4\n",
      "['ejerlejlighed', 'god', 'plads', 'af', 'samt', 'fra', 'lejlighedens', 'har', 'på', 'man', 'der', 'en', 'altan', 'lejlighed', 'lejligheden']\n",
      "\n",
      "\n",
      "THE TOP 15 WORDS FOR TOPIC # 5\n",
      "['samlet', 'iflg', 'mursten', 'http', 'meddelelsen', 'tinglyst', 'auktion', 'itvang', 'på', 'opført', 'heraf', 'ejendommen', 'areal', 'bbr', 'm²']\n",
      "\n",
      "\n",
      "THE TOP 15 WORDS FOR TOPIC # 6\n",
      "['lager', 'en', 'man', 'c3', 'kontor', 'beliggende', 'silkeborg', 'erhverv', 'ejendomme', 'ca', 'på', 'af', 'ejendommen', 'der', 'lejemålet']\n",
      "\n",
      "\n"
     ]
    }
   ],
   "source": [
    "for index,topic in enumerate(nmf_model.components_):\n",
    "    print(f\"THE TOP 15 WORDS FOR TOPIC # {index}\")\n",
    "    print([tfidf.get_feature_names()[i] for i in topic.argsort()[-15:]])\n",
    "    print('\\n')"
   ]
  },
  {
   "cell_type": "code",
   "execution_count": 25,
   "metadata": {},
   "outputs": [],
   "source": [
    "topic_results = nmf_model.transform(dtm)\n",
    "topic_results.argmax(axis=1)\n",
    "npr['text'] = topic_results.argmax(axis=1)"
   ]
  },
  {
   "cell_type": "code",
   "execution_count": 26,
   "metadata": {},
   "outputs": [
    {
     "output_type": "execute_result",
     "data": {
      "text/plain": [
       "   text Topic Lable\n",
       "0     0         NaN\n",
       "1     6           6\n",
       "2     6           6\n",
       "3     5           5\n",
       "4     6           6"
      ],
      "text/html": "<div>\n<style scoped>\n    .dataframe tbody tr th:only-of-type {\n        vertical-align: middle;\n    }\n\n    .dataframe tbody tr th {\n        vertical-align: top;\n    }\n\n    .dataframe thead th {\n        text-align: right;\n    }\n</style>\n<table border=\"1\" class=\"dataframe\">\n  <thead>\n    <tr style=\"text-align: right;\">\n      <th></th>\n      <th>text</th>\n      <th>Topic Lable</th>\n    </tr>\n  </thead>\n  <tbody>\n    <tr>\n      <th>0</th>\n      <td>0</td>\n      <td>NaN</td>\n    </tr>\n    <tr>\n      <th>1</th>\n      <td>6</td>\n      <td>6</td>\n    </tr>\n    <tr>\n      <th>2</th>\n      <td>6</td>\n      <td>6</td>\n    </tr>\n    <tr>\n      <th>3</th>\n      <td>5</td>\n      <td>5</td>\n    </tr>\n    <tr>\n      <th>4</th>\n      <td>6</td>\n      <td>6</td>\n    </tr>\n  </tbody>\n</table>\n</div>"
     },
     "metadata": {},
     "execution_count": 26
    }
   ],
   "source": [
    "mytopic_dict = {1:'a topic', 2:'an other topic',3:'3.', 4:'4.', 5:'5.', 6:'6.'}\n",
    "npr['Topic Lable'] = npr['text'].map(mytopic_dict)\n",
    "npr.head()"
   ]
  },
  {
   "cell_type": "code",
   "execution_count": null,
   "metadata": {},
   "outputs": [],
   "source": []
  }
 ]
}