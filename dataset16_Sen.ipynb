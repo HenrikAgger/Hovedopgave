{
 "metadata": {
  "language_info": {
   "codemirror_mode": {
    "name": "ipython",
    "version": 3
   },
   "file_extension": ".py",
   "mimetype": "text/x-python",
   "name": "python",
   "nbconvert_exporter": "python",
   "pygments_lexer": "ipython3",
   "version": "3.8.5-final"
  },
  "orig_nbformat": 2,
  "kernelspec": {
   "name": "python3",
   "display_name": "Python 3",
   "language": "python"
  }
 },
 "nbformat": 4,
 "nbformat_minor": 2,
 "cells": [
  {
   "cell_type": "code",
   "execution_count": 1,
   "metadata": {},
   "outputs": [
    {
     "output_type": "stream",
     "name": "stderr",
     "text": [
      "[nltk_data] Downloading package vader_lexicon to\n[nltk_data]     C:\\Users\\minma\\AppData\\Roaming\\nltk_data...\n[nltk_data]   Package vader_lexicon is already up-to-date!\n"
     ]
    },
    {
     "output_type": "execute_result",
     "data": {
      "text/plain": [
       "{'neg': 0.013, 'neu': 0.947, 'pos': 0.04, 'compound': 0.7345}"
      ]
     },
     "metadata": {},
     "execution_count": 1
    }
   ],
   "source": [
    "import nltk\n",
    "nltk.download('vader_lexicon')\n",
    "from nltk.sentiment.vader import SentimentIntensityAnalyzer\n",
    "sid = SentimentIntensityAnalyzer()\n",
    "\n",
    "import pandas as pd\n",
    "header_names=['text']\n",
    "df = pd.read_csv('descriptions.csv', header=None, skiprows=1, names=header_names, sep='\\n')\n",
    "\n",
    "df = df['text'][0]\n",
    "#print(df)\n",
    "sid.polarity_scores(df)\n",
    "# compound score is very positive "
   ]
  },
  {
   "cell_type": "code",
   "execution_count": 4,
   "metadata": {},
   "outputs": [
    {
     "output_type": "stream",
     "name": "stdout",
     "text": [
      "I det populære Paarup udbydes her en dejlig villa i ét plan, hvor husets muligheder ingen begrænsninger har. Huset er velholdt, lyst og imødekommende og giver et godt helhedsindtryk fra start til slut. Den nuværende planløsning er ideel til parret eller den lille familie, der vil have hus og have og en helt ekseptionelt god beliggenhed. Ejendommen ude som inde er velholdt og lige til at gå til. Huset rummer et dejligt køkken, som ligger opad stue og udestue - med andre ord kan du let og hurtigt gøre drømmen om et køkkenalrum til virkelighed. Endvidere findes et dejligt rummeligt bryggers, der i dagligdagen fungerer som praktisk indgang. Husets to store værelser ligger i forlængelse af den nuværende spisestue. Det ene værelse har oprindeligt været to, men for at få store og åbne rum, er der sidenhen prioriteret to store værelser i stedet. Dette kan let reetableres, så huset vil rumme to børneværelser og ét forældresoveværelse. Og netop sidstnævnte har eget badeværelse, mens der fra spisestuen kan tilgås gæstetoilet. Huset ligger helt ideelt på grunden og gør, at have og udemiljøe kan prioriteres efter ønske. Baghaven er uforstyrret og med træbevoksning i bunden, som giver hygge og idyl, på en ellers central og bynær beliggenhed. Der findes carport og værksted til grunden, som står i pæn stand. Særligt én ting giver beliggenheden på Stellavej 3 karakter. Fra adressen regnes de fleste afstande nemlig ikke i kilometer, men i meter. Ved blot 5-10 minutters gang findes indkøbsmuligheder, offentlig transport, skole, daginstitution, Paarup-hallens idrætsfaciliteter og ikke mindst naturomgivelser, der giver en fantastisk gåtur. Til Odense bymidte er der ligeledes ikke langt, men behovet for gågaden og Rosengårdscentret er minimal, med det store udvalg der findes i Tarup Centrets mange butikker og muligheder. EDC Tarup - vi glæder os til at fremvise denne mulighedsrige étplansvilla. Velkommen til!,https://www.edc.dk/alle-boliger/odense-nv/5210/stellavej-3/?sagsnr=52102348\n"
     ]
    },
    {
     "output_type": "error",
     "ename": "TypeError",
     "evalue": "string indices must be integers",
     "traceback": [
      "\u001b[1;31m---------------------------------------------------------------------------\u001b[0m",
      "\u001b[1;31mTypeError\u001b[0m                                 Traceback (most recent call last)",
      "\u001b[1;32m<ipython-input-4-a7dcabe30eed>\u001b[0m in \u001b[0;36m<module>\u001b[1;34m\u001b[0m\n\u001b[0;32m      4\u001b[0m \u001b[0mdf\u001b[0m \u001b[1;33m=\u001b[0m \u001b[0mdf\u001b[0m\u001b[1;33m[\u001b[0m\u001b[1;34m'text'\u001b[0m\u001b[1;33m]\u001b[0m\u001b[1;33m[\u001b[0m\u001b[1;36m0\u001b[0m\u001b[1;33m]\u001b[0m\u001b[1;33m\u001b[0m\u001b[1;33m\u001b[0m\u001b[0m\n\u001b[0;32m      5\u001b[0m \u001b[0mprint\u001b[0m\u001b[1;33m(\u001b[0m\u001b[0mdf\u001b[0m\u001b[1;33m)\u001b[0m\u001b[1;33m\u001b[0m\u001b[1;33m\u001b[0m\u001b[0m\n\u001b[1;32m----> 6\u001b[1;33m \u001b[0mdf\u001b[0m\u001b[1;33m[\u001b[0m\u001b[1;34m'scores'\u001b[0m\u001b[1;33m]\u001b[0m \u001b[1;33m=\u001b[0m \u001b[0mdf\u001b[0m\u001b[1;33m[\u001b[0m\u001b[1;34m'text'\u001b[0m\u001b[1;33m]\u001b[0m\u001b[1;33m.\u001b[0m\u001b[0mapply\u001b[0m\u001b[1;33m(\u001b[0m\u001b[1;32mlambda\u001b[0m \u001b[0mreview\u001b[0m\u001b[1;33m:\u001b[0m \u001b[0msid\u001b[0m\u001b[1;33m.\u001b[0m\u001b[0mpolarity_scores\u001b[0m\u001b[1;33m(\u001b[0m\u001b[0mreview\u001b[0m\u001b[1;33m)\u001b[0m\u001b[1;33m)\u001b[0m\u001b[1;33m\u001b[0m\u001b[1;33m\u001b[0m\u001b[0m\n\u001b[0m\u001b[0;32m      7\u001b[0m \u001b[1;31m#df.iloc[0]['text']\u001b[0m\u001b[1;33m\u001b[0m\u001b[1;33m\u001b[0m\u001b[1;33m\u001b[0m\u001b[0m\n\u001b[0;32m      8\u001b[0m \u001b[1;31m#sid.polarity_scores(df.iloc[0]['text'])\u001b[0m\u001b[1;33m\u001b[0m\u001b[1;33m\u001b[0m\u001b[1;33m\u001b[0m\u001b[0m\n",
      "\u001b[1;31mTypeError\u001b[0m: string indices must be integers"
     ]
    }
   ],
   "source": [
    "import pandas as pd\n",
    "header_names=['text']\n",
    "df = pd.read_csv('descriptions.csv', header=None, skiprows=1, names=header_names, sep='\\t')\n",
    "df = df['text'][0]\n",
    "print(df)\n",
    "df['scores'] = df['text'].apply(lambda review: sid.polarity_scores(review))\n",
    "#df.iloc[0]['text']\n",
    "#sid.polarity_scores(df.iloc[0]['text'])"
   ]
  },
  {
   "cell_type": "code",
   "execution_count": 20,
   "metadata": {},
   "outputs": [],
   "source": [
    "\n",
    "\n",
    "     \n"
   ]
  },
  {
   "cell_type": "code",
   "execution_count": null,
   "metadata": {},
   "outputs": [],
   "source": []
  }
 ]
}